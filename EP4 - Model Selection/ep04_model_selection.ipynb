{
  "nbformat": 4,
  "nbformat_minor": 0,
  "metadata": {
    "colab": {
      "name": "ep04_model_selection.ipynb",
      "provenance": [],
      "collapsed_sections": [
        "aZ-ckP-eX-ry",
        "XfDo_vNkWsF-",
        "0ljKxi0AYDEp",
        "z3qVtymnYKI7",
        "4wBCbvtNYo6o",
        "2VUXDjkDbvMw",
        "Y1Kt-Pp3WaVg",
        "byPLX_eke90P",
        "vGDvPnj2fKx5",
        "pQDNr17Hij8N",
        "JSJfSALkWf43",
        "c5oujPF5c0YR",
        "UuWtxbBq8vlQ",
        "RbRPPJraH5c_",
        "JXYypSd-A1MF",
        "zGFqAwcbBMdT",
        "sKFe2joTWmC0",
        "IBCId1bBdfG-",
        "gp1E5LaiRjUQ",
        "0uUBWA6zHk5p",
        "pC16c0J8ZOfY",
        "3aoFB-lbBcLN",
        "2w6cZmWrBgRa",
        "JG-i7YYZXOBs",
        "Ni471KJQB_fS",
        "fe4TpM69cy53",
        "DLHgRWXBeu66",
        "bZvOctsOhGJh",
        "84P0GWtuCGb-",
        "_fb0YXY6dtfj",
        "8_ClzrrGeAim",
        "T61fx9EK6gRg",
        "7RPP4uMb6vyx",
        "YHf-jHMaeVsH",
        "v4vA_MH964x_",
        "bkYnmbdx8NWb",
        "hzNPWxZc79jL"
      ],
      "include_colab_link": true
    },
    "kernelspec": {
      "display_name": "Python 3",
      "language": "python",
      "name": "python3"
    },
    "language_info": {
      "codemirror_mode": {
        "name": "ipython",
        "version": 3
      },
      "file_extension": ".py",
      "mimetype": "text/x-python",
      "name": "python",
      "nbconvert_exporter": "python",
      "pygments_lexer": "ipython3",
      "version": "3.6.9"
    }
  },
  "cells": [
    {
      "cell_type": "markdown",
      "metadata": {
        "id": "view-in-github",
        "colab_type": "text"
      },
      "source": [
        "<a href=\"https://colab.research.google.com/github/victorsenoguchi/MAC0460---Introduction-to-Machine-Learning/blob/main/ep04_model_selection.ipynb\" target=\"_parent\"><img src=\"https://colab.research.google.com/assets/colab-badge.svg\" alt=\"Open In Colab\"/></a>"
      ]
    },
    {
      "cell_type": "code",
      "metadata": {
        "colab": {
          "base_uri": "https://localhost:8080/"
        },
        "id": "WY7YaYmGF1D0",
        "outputId": "101d9f32-b75e-4657-c64f-47c0965d168b"
      },
      "source": [
        "name = \"Victor Senoguchi Borges\"  # write YOUR NAME\n",
        " \n",
        "honorPledge = \"I affirm that I have not given or received any unauthorized \" \\\n",
        "              \"help on this assignment, and that this work is my own.\\n\"\n",
        " \n",
        " \n",
        "print(\"\\nName: \", name)\n",
        "print(\"\\nHonor pledge: \", honorPledge)"
      ],
      "execution_count": null,
      "outputs": [
        {
          "output_type": "stream",
          "text": [
            "\n",
            "Name:  Victor Senoguchi Borges\n",
            "\n",
            "Honor pledge:  I affirm that I have not given or received any unauthorized help on this assignment, and that this work is my own.\n",
            "\n"
          ],
          "name": "stdout"
        }
      ]
    },
    {
      "cell_type": "markdown",
      "metadata": {
        "id": "ANzUhc4-bFYW"
      },
      "source": [
        "## Libraries Version\n",
        "\n",
        "Python 3.7.11 \\\\\n",
        "numpy version 1.19.5 \\\\\n",
        "pandas version 1.1.5 \\\\\n",
        "sklearn version 0.22.2.post1 \\\\\n",
        "tensorflow version 2.5.0 \\\\\n",
        "matplotlib version 3.2.2 \\\\\n"
      ]
    },
    {
      "cell_type": "markdown",
      "metadata": {
        "id": "aZ-ckP-eX-ry"
      },
      "source": [
        "# 0. Initial Imports"
      ]
    },
    {
      "cell_type": "code",
      "metadata": {
        "id": "DrR8Ohd0F1ED",
        "scrolled": false
      },
      "source": [
        "import numpy as np\n",
        "import pandas as pd\n",
        "import matplotlib.pyplot as plt\n",
        "from tensorflow.keras.datasets import mnist\n",
        " \n",
        "%matplotlib inline"
      ],
      "execution_count": null,
      "outputs": []
    },
    {
      "cell_type": "markdown",
      "metadata": {
        "id": "XfDo_vNkWsF-"
      },
      "source": [
        "# 1. Dataset Preparation"
      ]
    },
    {
      "cell_type": "markdown",
      "metadata": {
        "id": "0ljKxi0AYDEp"
      },
      "source": [
        "## 1.1. Data Loading"
      ]
    },
    {
      "cell_type": "code",
      "metadata": {
        "colab": {
          "base_uri": "https://localhost:8080/"
        },
        "id": "fKDO06mBF1EH",
        "outputId": "d179becc-eb3d-4bd8-d901-5f57d416560e"
      },
      "source": [
        "(X_train_ori, y_train_ori), (X_test_ori, y_test_ori) = mnist.load_data()\n",
        " \n",
        "print(X_train_ori.shape, y_train_ori.shape)\n",
        "print(X_test_ori.shape, y_test_ori.shape)"
      ],
      "execution_count": null,
      "outputs": [
        {
          "output_type": "stream",
          "text": [
            "Downloading data from https://storage.googleapis.com/tensorflow/tf-keras-datasets/mnist.npz\n",
            "11493376/11490434 [==============================] - 0s 0us/step\n",
            "(60000, 28, 28) (60000,)\n",
            "(10000, 28, 28) (10000,)\n"
          ],
          "name": "stdout"
        }
      ]
    },
    {
      "cell_type": "markdown",
      "metadata": {
        "id": "z3qVtymnYKI7"
      },
      "source": [
        "## 1.2. Data Visualization"
      ]
    },
    {
      "cell_type": "code",
      "metadata": {
        "colab": {
          "base_uri": "https://localhost:8080/"
        },
        "id": "PU13gTHtF1EK",
        "outputId": "d2e09ab8-8335-441b-b4db-e23394a30800"
      },
      "source": [
        "labels = [\"%s\"%i for i in range(10)]\n",
        " \n",
        "unique, counts = np.unique(y_train_ori, return_counts=True)\n",
        "uniquet, countst = np.unique(y_test_ori, return_counts=True)\n",
        " \n",
        "fig, ax = plt.subplots()\n",
        "rects1 = ax.bar(unique - 0.2, counts, 0.25, label='Train')\n",
        "rects2 = ax.bar(unique + 0.2, countst, 0.25, label='Test')\n",
        "ax.legend()\n",
        "ax.set_xticks(unique)\n",
        "ax.set_xticklabels(labels)\n",
        " \n",
        "plt.title('MNIST classes')\n",
        "plt.xlabel('Class')\n",
        "plt.ylabel('Frequency')\n",
        "plt.show()"
      ],
      "execution_count": null,
      "outputs": [
        {
          "output_type": "display_data",
          "data": {
            "image/png": "[encoded data removed]",
            "text/plain": [
              "<Figure size 432x288 with 1 Axes>"
            ]
          },
          "metadata": {
            "tags": [],
            "needs_background": "light"
          }
        }
      ]
    },
    {
      "cell_type": "code",
      "metadata": {
        "colab": {
          "base_uri": "https://localhost:8080/"
        },
        "id": "8Mox4abRF1EO",
        "outputId": "342e7b02-673d-48d7-f5cd-21dae104aee8"
      },
      "source": [
        "fig, ax = plt.subplots(2, 3, figsize = (9, 6))\n",
        " \n",
        "for i in range(6):\n",
        "    ax[i//3, i%3].imshow(X_train_ori[i], cmap='gray')\n",
        "    ax[i//3, i%3].axis('off')\n",
        "    ax[i//3, i%3].set_title(\"Class: %d\"%y_train_ori[i])\n",
        "    \n",
        "plt.show()"
      ],
      "execution_count": null,
      "outputs": [
        {
          "output_type": "display_data",
          "data": {
            "image/png": "[encoded data removed]",
            "text/plain": [
              "<Figure size 648x432 with 6 Axes>"
            ]
          },
          "metadata": {
            "tags": [],
            "needs_background": "light"
          }
        }
      ]
    },
    {
      "cell_type": "markdown",
      "metadata": {
        "id": "4wBCbvtNYo6o"
      },
      "source": [
        "## 1.3. Image Processing"
      ]
    },
    {
      "cell_type": "code",
      "metadata": {
        "id": "rR24Ti0wF1ER"
      },
      "source": [
        "# Reduce the image size to its half \n",
        "X = np.array([image[::2, 1::2] for image in X_train_ori])\n",
        "X_test = np.array([image[::2, 1::2] for image in X_test_ori])\n",
        " \n",
        "y = y_train_ori\n",
        "y_test = y_test_ori"
      ],
      "execution_count": null,
      "outputs": []
    },
    {
      "cell_type": "code",
      "metadata": {
        "colab": {
          "base_uri": "https://localhost:8080/"
        },
        "id": "dhZUx69cF1ET",
        "outputId": "b7ab970a-0660-41ce-cd6b-6d842b8aa664"
      },
      "source": [
        "fig, ax = plt.subplots(2, 3, figsize = (9, 6))\n",
        " \n",
        "for i in range(6):\n",
        "    ax[i//3, i%3].imshow(X[i], cmap='gray')\n",
        "    ax[i//3, i%3].axis('off')\n",
        "    ax[i//3, i%3].set_title(\"Class: %d\"%y_train_ori[i])\n",
        "    \n",
        "plt.show()"
      ],
      "execution_count": null,
      "outputs": [
        {
          "output_type": "display_data",
          "data": {
            "image/png": "[encoded data removed]",
            "text/plain": [
              "<Figure size 648x432 with 6 Axes>"
            ]
          },
          "metadata": {
            "tags": [],
            "needs_background": "light"
          }
        }
      ]
    },
    {
      "cell_type": "code",
      "metadata": {
        "colab": {
          "base_uri": "https://localhost:8080/"
        },
        "id": "qLgOurOIF1EW",
        "outputId": "f00dfb85-b749-4f3f-c30e-5da67c7882d9"
      },
      "source": [
        "X = (X/255.0).astype('float32').reshape((60000,14*14))\n",
        "X_test = (X_test/255.0).astype('float32').reshape((10000,14*14))\n",
        " \n",
        "print(X.dtype)\n",
        "print(X_test.dtype)\n",
        " \n",
        "print(\"\\nShape of X: \", X.shape)\n",
        "print(\"Shape of X_test: \", X_test.shape)\n",
        " \n",
        "print(\"\\nMinimum value in X:\", np.amin(X))\n",
        "print(\"Maximum value in X:\", np.amax(X))\n",
        " \n",
        "print(\"\\nMinimum value in X_test:\", np.amin(X_test))\n",
        "print(\"Maximum value in X_test:\", np.amax(X_test))"
      ],
      "execution_count": null,
      "outputs": [
        {
          "output_type": "stream",
          "text": [
            "float32\n",
            "float32\n",
            "\n",
            "Shape of X:  (60000, 196)\n",
            "Shape of X_test:  (10000, 196)\n",
            "\n",
            "Minimum value in X: 0.0\n",
            "Maximum value in X: 1.0\n",
            "\n",
            "Minimum value in X_test: 0.0\n",
            "Maximum value in X_test: 1.0\n"
          ],
          "name": "stdout"
        }
      ]
    },
    {
      "cell_type": "markdown",
      "metadata": {
        "id": "2VUXDjkDbvMw"
      },
      "source": [
        "## 1.4. Dataset Split\n",
        "\n",
        "This section divides the dataset into the training and validation set together in a stratified manner."
      ]
    },
    {
      "cell_type": "code",
      "metadata": {
        "id": "l3mHZ66pTXGZ"
      },
      "source": [
        "from sklearn.model_selection import train_test_split\n",
        "from sklearn.model_selection import PredefinedSplit"
      ],
      "execution_count": null,
      "outputs": []
    },
    {
      "cell_type": "code",
      "metadata": {
        "id": "BooLVs_gZuoS"
      },
      "source": [
        "# Create a list of indices\n",
        "indices = np.arange(X.shape[0])\n",
        "\n",
        "# Split the data in training and validation set\n",
        "X_train, X_val, y_train, y_val, idx, _ = train_test_split(X, \n",
        "                                                          y, \n",
        "                                                          indices,\n",
        "                                                          stratify = y,\n",
        "                                                          train_size = 0.7, \n",
        "                                                          random_state = 2021)\n",
        " \n",
        "# Create a list where train data indices are -1 and validation data indices are 0\n",
        "split_index = [-1 if x in idx else 0 for x in indices]\n",
        " \n",
        "# Use the list to create PredefinedSplit\n",
        "pds = PredefinedSplit(test_fold = split_index)"
      ],
      "execution_count": null,
      "outputs": []
    },
    {
      "cell_type": "markdown",
      "metadata": {
        "id": "Y1Kt-Pp3WaVg"
      },
      "source": [
        "## 1.5. Splitted Data Visuallization\n",
        "\n",
        "This section plots a histogram to show that the data is stratified."
      ]
    },
    {
      "cell_type": "code",
      "metadata": {
        "id": "NKHe70YycJyC",
        "colab": {
          "base_uri": "https://localhost:8080/"
        },
        "outputId": "221d218b-2ad4-4292-d996-b82536c88448"
      },
      "source": [
        "labels = [\"%s\"%i for i in range(10)]\n",
        " \n",
        "unique, counts = np.unique(y_train, return_counts=True)\n",
        "uniquet, countst = np.unique(y_val, return_counts=True)\n",
        " \n",
        "fig, ax = plt.subplots()\n",
        "rects1 = ax.bar(unique - 0.2, counts, 0.25, label='Train')\n",
        "rects2 = ax.bar(unique + 0.2, countst, 0.25, label='Validation')\n",
        "ax.legend()\n",
        "ax.set_xticks(unique)\n",
        "ax.set_xticklabels(labels)\n",
        " \n",
        "plt.title('MNIST classes')\n",
        "plt.xlabel('Class')\n",
        "plt.ylabel('Frequency')\n",
        "plt.show()"
      ],
      "execution_count": null,
      "outputs": [
        {
          "output_type": "display_data",
          "data": {
            "image/png": "[encoded data removed]",
            "text/plain": [
              "<Figure size 432x288 with 1 Axes>"
            ]
          },
          "metadata": {
            "tags": [],
            "needs_background": "light"
          }
        }
      ]
    },
    {
      "cell_type": "markdown",
      "metadata": {
        "id": "byPLX_eke90P"
      },
      "source": [
        "# 2. Training, Evaluation and Selecting Models"
      ]
    },
    {
      "cell_type": "markdown",
      "metadata": {
        "id": "vGDvPnj2fKx5"
      },
      "source": [
        "##### Evaluation and Selection Methods Imports"
      ]
    },
    {
      "cell_type": "code",
      "metadata": {
        "id": "hQZMUCL_fS3T"
      },
      "source": [
        "from sklearn.model_selection import GridSearchCV\n",
        "from sklearn.metrics import confusion_matrix\n",
        "from sklearn.metrics import make_scorer\n",
        "from sklearn.metrics import accuracy_score\n",
        "from sklearn.metrics import f1_score \n",
        "from sklearn.metrics import precision_score\n",
        "from sklearn.metrics import recall_score\n",
        "from sklearn.metrics import classification_report"
      ],
      "execution_count": null,
      "outputs": []
    },
    {
      "cell_type": "code",
      "metadata": {
        "id": "HNFk25Ij6Q1H"
      },
      "source": [
        "# Scorings to help select a model\n",
        "scoring = {\"accuracy\" : make_scorer(accuracy_score),\n",
        "           \"precision\": make_scorer(precision_score, average = \"macro\"),\n",
        "           \"recall\": make_scorer(recall_score, average = \"macro\"),\n",
        "           \"f1\" : make_scorer(f1_score, average = \"macro\")}\n",
        " \n",
        "# Random_state argument\n",
        "seed = 199\n",
        " \n",
        "# Max number of iterations\n",
        "epochs = 1000"
      ],
      "execution_count": null,
      "outputs": []
    },
    {
      "cell_type": "markdown",
      "metadata": {
        "id": "pQDNr17Hij8N"
      },
      "source": [
        "##### Deciding Functions\n",
        "\n",
        "Two functions to help me decide some model parameters "
      ]
    },
    {
      "cell_type": "code",
      "metadata": {
        "id": "EwKAGUlniq2G"
      },
      "source": [
        "def make_grid(model, param_grid, scoring, X, y, pds):\n",
        "   \n",
        "   gs = GridSearchCV(estimator = model,\n",
        "                     scoring = scoring,\n",
        "                     cv = pds,\n",
        "                     param_grid = param_grid,\n",
        "                     verbose = True,\n",
        "                     n_jobs = -1,\n",
        "                     refit = False).fit(X, y)\n",
        " \n",
        "   grid = pd.DataFrame(gs.cv_results_)\n",
        " \n",
        "   grid.rename(columns = {\"rank_test_accuracy\": \"accuracy_rank\",\n",
        "                          \"mean_test_accuracy\": \"accuracy\",\n",
        "                          \"rank_test_precision\": \"precision_rank\",\n",
        "                          \"mean_test_precision\": \"precision\",\n",
        "                          \"rank_test_recall\": \"recall_rank\",\n",
        "                          \"mean_test_recall\": \"recall\",\n",
        "                          \"rank_test_f1\": \"f1_rank\",\n",
        "                          \"mean_test_f1\": \"f1\"},\n",
        "               inplace = True)\n",
        " \n",
        "   grid.sort_values(by = [\"accuracy_rank\", \n",
        "                          \"f1_rank\"],\n",
        "                    inplace = True)\n",
        "  \n",
        "   return grid[[\"params\", \"accuracy_rank\", \n",
        "                \"accuracy\", \"f1_rank\",\n",
        "                \"f1\", \"precision\",\n",
        "                \"recall\"]]\n",
        " \n",
        "def select(grid, param = None):\n",
        "   if param is None:\n",
        "      return grid[\"params\"].iloc[0]\n",
        "   else:\n",
        "      return grid[\"params\"].iloc[0][param]"
      ],
      "execution_count": null,
      "outputs": []
    },
    {
      "cell_type": "markdown",
      "metadata": {
        "id": "JSJfSALkWf43"
      },
      "source": [
        "## 2.1. Logistic Regression"
      ]
    },
    {
      "cell_type": "code",
      "metadata": {
        "id": "XtOQOto0WmqU"
      },
      "source": [
        "from sklearn.linear_model import LogisticRegression"
      ],
      "execution_count": null,
      "outputs": []
    },
    {
      "cell_type": "markdown",
      "metadata": {
        "id": "c5oujPF5c0YR"
      },
      "source": [
        "#### 2.1.1. Model Selection"
      ]
    },
    {
      "cell_type": "markdown",
      "metadata": {
        "id": "UuWtxbBq8vlQ"
      },
      "source": [
        "##### Deciding a Solver\n",
        "\n",
        "  As a lot of parameters depends on the solver, I decided to choose a solver first."
      ]
    },
    {
      "cell_type": "code",
      "metadata": {
        "colab": {
          "base_uri": "https://localhost:8080/"
        },
        "id": "fn7XLzLj9TNW",
        "outputId": "122e9c7a-10d1-4373-c5b0-33421c873f44"
      },
      "source": [
        "solver = [\"newton-cg\", \"lbfgs\", \n",
        "          \"sag\", \"saga\"]\n",
        " \n",
        "param_grid = dict(solver = solver)\n",
        " \n",
        "model = LogisticRegression(random_state = seed,\n",
        "                           max_iter = epochs)\n",
        " \n",
        "lr_solver_grid = make_grid(model, param_grid, \n",
        "                           scoring, X, y, pds)\n",
        " \n",
        "lr_solver_grid.head()"
      ],
      "execution_count": null,
      "outputs": [
        {
          "output_type": "stream",
          "text": [
            "Fitting 1 folds for each of 4 candidates, totalling 4 fits\n"
          ],
          "name": "stdout"
        },
        {
          "output_type": "stream",
          "text": [
            "[Parallel(n_jobs=-1)]: Using backend LokyBackend with 2 concurrent workers.\n"
          ],
          "name": "stderr"
        }
      ]
    },
    {
      "cell_type": "code",
      "metadata": {
        "id": "H_uk7nHzD90k"
      },
      "source": [
        "lr_solver = select(lr_solver_grid,   \n",
        "                   \"solver\")"
      ],
      "execution_count": null,
      "outputs": []
    },
    {
      "cell_type": "markdown",
      "metadata": {
        "id": "RbRPPJraH5c_"
      },
      "source": [
        "##### Deciding Other Parameters\n",
        "\n",
        "  GridSearchCV to decide a C and penalty parameters."
      ]
    },
    {
      "cell_type": "code",
      "metadata": {
        "id": "K3hZTRkbPf_G"
      },
      "source": [
        "C = [10**(i-3) for i in range(7)]\n",
        " \n",
        "penalty = [\"l1\", \"l2\"]\n",
        " \n",
        "param_grid = dict(C = C,\n",
        "                  penalty = penalty)\n",
        " \n",
        "model = LogisticRegression(random_state = seed,        \n",
        "                           max_iter = epochs,\n",
        "                           solver = lr_solver)\n",
        "                      \n",
        "lr_grid = make_grid(model, param_grid,                          \n",
        "                    scoring, X, y, pds)\n",
        " \n",
        "lr_grid.head()"
      ],
      "execution_count": null,
      "outputs": []
    },
    {
      "cell_type": "code",
      "metadata": {
        "id": "Pne4JDawErls"
      },
      "source": [
        "lr_params = select(lr_grid)"
      ],
      "execution_count": null,
      "outputs": []
    },
    {
      "cell_type": "markdown",
      "metadata": {
        "id": "JXYypSd-A1MF"
      },
      "source": [
        "#### 2.1.2. Model Training"
      ]
    },
    {
      "cell_type": "code",
      "metadata": {
        "id": "TG2Pq1Vf5bWL"
      },
      "source": [
        "lr = LogisticRegression(random_state = seed,        \n",
        "                        max_iter = epochs,\n",
        "                        solver = lr_solver,\n",
        "                        penalty = lr_params[\"penalty\"],\n",
        "                        C = lr_params[\"C\"])\n",
        " \n",
        "lr.fit(X_train, y_train)"
      ],
      "execution_count": null,
      "outputs": []
    },
    {
      "cell_type": "markdown",
      "metadata": {
        "id": "zGFqAwcbBMdT"
      },
      "source": [
        "#### 2.1.3. Model Evaluation"
      ]
    },
    {
      "cell_type": "code",
      "metadata": {
        "id": "viLfPIG8SOi8"
      },
      "source": [
        "print(\"Logistic Regression\\n\")\n",
        " \n",
        "yhat_lr_train = lr.predict(X_train)\n",
        "lr_train_acc = accuracy_score(y_train,\n",
        "                              yhat_lr_train)\n",
        "print(\"Training Score:\", lr_train_acc)\n",
        "print()\n",
        " \n",
        "yhat_lr_val = lr.predict(X_val)\n",
        "lr_val_acc = accuracy_score(y_val,\n",
        "                            yhat_lr_val)\n",
        "print(\"Validation Score:\", lr_val_acc)\n",
        "print()\n",
        " \n",
        "print(\"Validation Report:\\n\")\n",
        "print(classification_report(y_val, yhat_lr_val))"
      ],
      "execution_count": null,
      "outputs": []
    },
    {
      "cell_type": "markdown",
      "metadata": {
        "id": "sKFe2joTWmC0"
      },
      "source": [
        "## 2.2. SVM Classifier"
      ]
    },
    {
      "cell_type": "code",
      "metadata": {
        "id": "yT3y7ltlXNwB"
      },
      "source": [
        "from sklearn.svm import SVC"
      ],
      "execution_count": null,
      "outputs": []
    },
    {
      "cell_type": "markdown",
      "metadata": {
        "id": "IBCId1bBdfG-"
      },
      "source": [
        "#### 2.2.1. Model Selection"
      ]
    },
    {
      "cell_type": "markdown",
      "metadata": {
        "id": "gp1E5LaiRjUQ"
      },
      "source": [
        "##### Deciding the Best Degree for Polynomial Kernel"
      ]
    },
    {
      "cell_type": "code",
      "metadata": {
        "id": "eG_YsDlIQYV6"
      },
      "source": [
        "degree = [i for i in range(2, 6)]\n",
        " \n",
        "param_grid = dict(degree = degree)\n",
        " \n",
        "model = SVC(random_state = seed,        \n",
        "            max_iter = epochs,\n",
        "            kernel = \"poly\")\n",
        " \n",
        "poly_degree_grid = make_grid(model, param_grid,\n",
        "                             scoring, X, y, pds)\n",
        " \n",
        "poly_degree_grid.head()"
      ],
      "execution_count": null,
      "outputs": []
    },
    {
      "cell_type": "code",
      "metadata": {
        "id": "TlxZJ41ZJ-Zl"
      },
      "source": [
        "poly_degree = select(poly_degree_grid, \"degree\")"
      ],
      "execution_count": null,
      "outputs": []
    },
    {
      "cell_type": "markdown",
      "metadata": {
        "id": "0uUBWA6zHk5p"
      },
      "source": [
        "##### Deciding a Kernel\n",
        "\n",
        "As a lot of parameters depends on the svm kernel, I decided to choose a kernel first."
      ]
    },
    {
      "cell_type": "code",
      "metadata": {
        "id": "2dOgDFNDHs01"
      },
      "source": [
        "kernel = [\"linear\", \"rbf\", \"poly\"]\n",
        " \n",
        "param_grid = dict(kernel = kernel)\n",
        " \n",
        "model = SVC(random_state = seed,        \n",
        "            max_iter = 1000,\n",
        "            degree = poly_degree)\n",
        " \n",
        "svm_kernel_grid = make_grid(model, param_grid,\n",
        "                            scoring, X, y, pds)\n",
        " \n",
        "svm_kernel_grid.head()"
      ],
      "execution_count": null,
      "outputs": []
    },
    {
      "cell_type": "code",
      "metadata": {
        "id": "DIzjlfG2K10x"
      },
      "source": [
        "svm_kernel = select(svm_kernel_grid,\n",
        "                    \"kernel\")"
      ],
      "execution_count": null,
      "outputs": []
    },
    {
      "cell_type": "markdown",
      "metadata": {
        "id": "pC16c0J8ZOfY"
      },
      "source": [
        "##### Deciding Other Parameters\n",
        "\n",
        "GridSearchCV to decide a C and gamma parameters.\n"
      ]
    },
    {
      "cell_type": "code",
      "metadata": {
        "id": "aRTQl3MOdfb1"
      },
      "source": [
        "kernel = grid[\"params\"].iloc[0][\"kernel\"]\n",
        " \n",
        "C = [10**(i-1) for i in range(3)]\n",
        " \n",
        "gamma = C + [\"scale\", \"auto\"]\n",
        " \n",
        "param_grid = dict(C = C,\n",
        "                  gamma = gamma)\n",
        " \n",
        "model = SVC(random_state = seed, \n",
        "            kernel = svm_kernel, \n",
        "            degree = poly_degree,      \n",
        "            max_iter = epochs)\n",
        " \n",
        "svm_grid = make_grid(model, param_grid,\n",
        "                     scoring, X, y, pds)\n",
        " \n",
        "svm_grid.head()"
      ],
      "execution_count": null,
      "outputs": []
    },
    {
      "cell_type": "code",
      "metadata": {
        "id": "l-rLiBX5MHud"
      },
      "source": [
        "svm_params = select(svm_grid)"
      ],
      "execution_count": null,
      "outputs": []
    },
    {
      "cell_type": "markdown",
      "metadata": {
        "id": "3aoFB-lbBcLN"
      },
      "source": [
        "#### 2.2.2. Model Training"
      ]
    },
    {
      "cell_type": "code",
      "metadata": {
        "id": "GR5fK4mJ5kk6"
      },
      "source": [
        "svm = SVC(random_state = seed,   \n",
        "          kernel = kernel, \n",
        "          degree = degree,\n",
        "          max_iter = epochs,\n",
        "          C = svm_params[\"C\"],\n",
        "          gamma = svm_params[\"gamma\"])\n",
        " \n",
        "svm.fit(X_train, y_train)"
      ],
      "execution_count": null,
      "outputs": []
    },
    {
      "cell_type": "markdown",
      "metadata": {
        "id": "2w6cZmWrBgRa"
      },
      "source": [
        "#### 2.2.3. Model Evaluation"
      ]
    },
    {
      "cell_type": "code",
      "metadata": {
        "id": "fA2bR5tTnSN0"
      },
      "source": [
        "print(\"SVM Classifier\\n\")\n",
        " \n",
        "yhat_svm_train = svm.predict(X_train)\n",
        "svm_train_acc = accuracy_score(y_train, \n",
        "                               yhat_svm_train)\n",
        "print(\"Training Score:\", svm_train_acc)\n",
        "print()\n",
        " \n",
        "yhat_svm_val = svm.predict(X_val)\n",
        "svm_val_acc = accuracy_score(y_val, \n",
        "                             yhat_svm_val)\n",
        "print(\"Validation Score:\", svm_val_acc)\n",
        "print()\n",
        " \n",
        "print(\"Validation Report:\\n\")\n",
        "print(classification_report(y_val, yhat_svm_val))"
      ],
      "execution_count": null,
      "outputs": []
    },
    {
      "cell_type": "markdown",
      "metadata": {
        "id": "JG-i7YYZXOBs"
      },
      "source": [
        "## 2.3. Neuron Network (MLP Classifier)"
      ]
    },
    {
      "cell_type": "code",
      "metadata": {
        "id": "rZ--3LUDdtL_"
      },
      "source": [
        " from sklearn.neural_network import MLPClassifier"
      ],
      "execution_count": null,
      "outputs": []
    },
    {
      "cell_type": "markdown",
      "metadata": {
        "id": "Ni471KJQB_fS"
      },
      "source": [
        "#### 2.3.1. Model Selection"
      ]
    },
    {
      "cell_type": "markdown",
      "metadata": {
        "id": "fe4TpM69cy53"
      },
      "source": [
        "##### Deciding a Solver\n",
        "\n",
        "As a lot of parameters depends on the solver, I decided to choose a solver first."
      ]
    },
    {
      "cell_type": "code",
      "metadata": {
        "id": "tMsWrffWdwHo"
      },
      "source": [
        "solver = [\"lbfgs\", \"sgd\", \"adam\"]\n",
        " \n",
        "param_grid = dict(solver = solver)\n",
        " \n",
        "model = MLPClassifier(random_state = seed,        \n",
        "                      max_iter = epochs)\n",
        " \n",
        "mlp_solver_grid = make_grid(model, param_grid,\n",
        "                            scoring, X, y, pds)\n",
        " \n",
        "mlp_solver_grid.head()"
      ],
      "execution_count": null,
      "outputs": []
    },
    {
      "cell_type": "code",
      "metadata": {
        "id": "mzTvlCp3O6DD"
      },
      "source": [
        "mlp_solver = select(mlp_solver_grid,\n",
        "                    \"solver\")"
      ],
      "execution_count": null,
      "outputs": []
    },
    {
      "cell_type": "markdown",
      "metadata": {
        "id": "DLHgRWXBeu66"
      },
      "source": [
        "##### Deciding an Activation Function\n",
        "\n",
        "To avoid waste time training a lot of models with a activation function that does not work, I decide to pick one before."
      ]
    },
    {
      "cell_type": "code",
      "metadata": {
        "id": "xCh-hnKHc4x2"
      },
      "source": [
        "activation = [\"relu\", \"tanh\", \"identity\", \"logistic\"]\n",
        " \n",
        "param_grid = dict(activation = activation)\n",
        " \n",
        "model = MLPClassifier(random_state = seed,\n",
        "                      max_iter = epochs,\n",
        "                      solver = mlp_solver)\n",
        "                           \n",
        "mlp_act_grid = make_grid(model, param_grid,\n",
        "                         scoring, X, y, pds)\n",
        " \n",
        "mlp_act_grid.head()"
      ],
      "execution_count": null,
      "outputs": []
    },
    {
      "cell_type": "code",
      "metadata": {
        "id": "5cIwdRHvPrzL"
      },
      "source": [
        "mlp_act = select(mlp_act_grid,\n",
        "                 \"activation\")"
      ],
      "execution_count": null,
      "outputs": []
    },
    {
      "cell_type": "markdown",
      "metadata": {
        "id": "bZvOctsOhGJh"
      },
      "source": [
        "##### Deciding Other Parameters\n",
        "\n",
        "GridSearchCV to decide a alpha and learning rate init parameters."
      ]
    },
    {
      "cell_type": "code",
      "metadata": {
        "id": "ycuI6hrIMEDD"
      },
      "source": [
        "alpha = [1e-2 + (i-2) * 0.005 for i in range(5)]\n",
        "\n",
        "learning_rate_init = [1e-3 * (1+i*0.5) for i in range(3)]\n",
        " \n",
        "param_grid = dict(alpha = alpha,\n",
        "                  learning_rate_init = learning_rate_init)\n",
        "                     \n",
        "model = MLPClassifier(random_state = seed,        \n",
        "                      max_iter = epochs,\n",
        "                      solver = mlp_solver,\n",
        "                      activation = mlp_act)\n",
        "\n",
        "mlp_grid = make_grid(model, param_grid,\n",
        "                     scoring, X, y, pds)\n",
        "\n",
        "mlp_grid.head()"
      ],
      "execution_count": null,
      "outputs": []
    },
    {
      "cell_type": "code",
      "metadata": {
        "id": "deYGsg9Qvx4t"
      },
      "source": [
        "mlp_params = select(mlp_grid)"
      ],
      "execution_count": null,
      "outputs": []
    },
    {
      "cell_type": "markdown",
      "metadata": {
        "id": "84P0GWtuCGb-"
      },
      "source": [
        "#### 2.3.2. Model Training"
      ]
    },
    {
      "cell_type": "code",
      "metadata": {
        "id": "YrRGPHCd87aA"
      },
      "source": [
        "mlp = MLPClassifier(random_state = seed,        \n",
        "                    max_iter = epochs,\n",
        "                    solver = mlp_solver,\n",
        "                    activation = mlp_act,\n",
        "                    alpha = params[\"alpha\"],\n",
        "                    activation = params[\"activation\"])\n",
        "\n",
        "mlp.fit(X_train, y_train)"
      ],
      "execution_count": null,
      "outputs": []
    },
    {
      "cell_type": "markdown",
      "metadata": {
        "id": "_fb0YXY6dtfj"
      },
      "source": [
        "#### 2.3.3. Model Evaluation"
      ]
    },
    {
      "cell_type": "code",
      "metadata": {
        "id": "qJNg8ybmMGI7"
      },
      "source": [
        "print(\"Neural Network (MLP Classifier) \\n\")\n",
        " \n",
        "yhat_mlp_train = mlp.predict(X_train)\n",
        "mlp_train_acc = accuracy_score(y_train, \n",
        "                               yhat_mlp_train)\n",
        "print(\"Training Score:\", mlp_train_acc)\n",
        "print()\n",
        " \n",
        "yhat_mlp_val = mlp.predict(X_val)\n",
        "mlp_val_acc = accuracy_score(y_val, \n",
        "                             yhat_mlp_val)\n",
        "print(\"Validation Score:\", mlp_val_acc)\n",
        "print()\n",
        " \n",
        "print(\"Validation Report:\\n\")\n",
        "print(classification_report(y_val, yhat_mlp_val))"
      ],
      "execution_count": null,
      "outputs": []
    },
    {
      "cell_type": "markdown",
      "metadata": {
        "id": "8_ClzrrGeAim"
      },
      "source": [
        "# 3. Model Selection"
      ]
    },
    {
      "cell_type": "markdown",
      "metadata": {
        "id": "T61fx9EK6gRg"
      },
      "source": [
        "## 3.1. Best Model Selection\n",
        "\n",
        "Select between the Logist Regression, SVM and MLP models using the accuracy in the validation set."
      ]
    },
    {
      "cell_type": "code",
      "metadata": {
        "id": "8xVaOJ096vTB"
      },
      "source": [
        "cands = {lr: (lr_train_acc, lr_val_acc),\n",
        "         svm: (svm_train_acc, svm_val_acc),\n",
        "         mlp: (mlp_train_acc, mlp_val_acc)}\n",
        "\n",
        "cands = sorted(cands.items(),\n",
        "               key = lambda cand: cand[1][1],\n",
        "               reverse = True)\n",
        " \n",
        "clf = cands[0][0]"
      ],
      "execution_count": null,
      "outputs": []
    },
    {
      "cell_type": "markdown",
      "metadata": {
        "id": "7RPP4uMb6vyx"
      },
      "source": [
        "## 3.2 Model Training"
      ]
    },
    {
      "cell_type": "code",
      "metadata": {
        "id": "ORfPYMkg7Dka"
      },
      "source": [
        "clf.fit(X, y)"
      ],
      "execution_count": null,
      "outputs": []
    },
    {
      "cell_type": "code",
      "metadata": {
        "colab": {
          "base_uri": "https://localhost:8080/"
        },
        "id": "EpyVitF1NFeA",
        "outputId": "4203b775-b77c-47b1-9e28-ccb7bf840cd2"
      },
      "source": [
        "clf"
      ],
      "execution_count": null,
      "outputs": [
        {
          "output_type": "execute_result",
          "data": {
            "text/plain": [
              "MLPClassifier(activation='relu', alpha=0.0001, batch_size='auto', beta_1=0.9,\n",
              "              beta_2=0.999, early_stopping=False, epsilon=1e-08,\n",
              "              hidden_layer_sizes=(100,), learning_rate='constant',\n",
              "              learning_rate_init=0.001, max_fun=15000, max_iter=1000,\n",
              "              momentum=0.9, n_iter_no_change=10, nesterovs_momentum=True,\n",
              "              power_t=0.5, random_state=199, shuffle=True, solver='adam',\n",
              "              tol=0.0001, validation_fraction=0.1, verbose=False,\n",
              "              warm_start=False)"
            ]
          },
          "metadata": {
            "tags": []
          },
          "execution_count": 27
        }
      ]
    },
    {
      "cell_type": "markdown",
      "metadata": {
        "id": "YHf-jHMaeVsH"
      },
      "source": [
        "# 4. Error Estimation"
      ]
    },
    {
      "cell_type": "markdown",
      "metadata": {
        "id": "v4vA_MH964x_"
      },
      "source": [
        "## 4.1 Model Score"
      ]
    },
    {
      "cell_type": "code",
      "metadata": {
        "id": "uaySw5ea4eeG",
        "colab": {
          "base_uri": "https://localhost:8080/"
        },
        "outputId": "9d4f8c48-0142-466e-a198-511b68b6780b"
      },
      "source": [
        "if clf == mlp:\n",
        "   print(\"Neural Network (MLP Classifier) \\n\")\n",
        "elif clf == svm:\n",
        "   print(\"SVM Classifier\\n\")\n",
        "elif clf == lr:\n",
        "   print(\"Logistic Regression\\n\")\n",
        "\n",
        "yhat_clf_train = mlp.predict(X)\n",
        "clf_train_acc = accuracy_score(y, \n",
        "                               yhat_clf_train)\n",
        "print(\"Training Score:\", clf_train_acc)\n",
        "print()\n",
        " \n",
        "yhat_clf_test = clf.predict(X_test)\n",
        "clf_test_acc = accuracy_score(y_test, \n",
        "                              yhat_clf_test)\n",
        "print(\"Test Score:\", clf_test_acc)\n",
        "print()"
      ],
      "execution_count": null,
      "outputs": [
        {
          "output_type": "stream",
          "text": [
            "Neural Network (MLP Classifier) \n",
            "\n",
            "Training Score: 1.0\n",
            "\n",
            "Test Score: 0.9735\n",
            "\n"
          ],
          "name": "stdout"
        }
      ]
    },
    {
      "cell_type": "markdown",
      "metadata": {
        "id": "bkYnmbdx8NWb"
      },
      "source": [
        "## 4.2 In and Out Error"
      ]
    },
    {
      "cell_type": "code",
      "metadata": {
        "id": "prqd4t-C8d2z",
        "colab": {
          "base_uri": "https://localhost:8080/"
        },
        "outputId": "f75e5b0c-68c0-4dd3-dbaa-cce5f6543c40"
      },
      "source": [
        "if clf == mlp:\n",
        "   print(\"Neural Network (MLP Classifier) \\n\")\n",
        "elif clf == svm:\n",
        "   print(\"SVM Classifier\\n\")\n",
        "elif clf == lr:\n",
        "   print(\"Logistic Regression\\n\")\n",
        "E_in = 1 - clf_train_acc\n",
        "print(\"E_in :\", E_in)\n",
        "print()\n",
        " \n",
        "E_out = 1 - clf_test_acc\n",
        "print(\"E_out :\", E_out)\n",
        "print()"
      ],
      "execution_count": null,
      "outputs": [
        {
          "output_type": "stream",
          "text": [
            "Neural Network (MLP Classifier) \n",
            "\n",
            "E_in : 0.0\n",
            "\n",
            "E_out : 0.026499999999999968\n",
            "\n"
          ],
          "name": "stdout"
        }
      ]
    },
    {
      "cell_type": "markdown",
      "metadata": {
        "id": "hzNPWxZc79jL"
      },
      "source": [
        "## 4.3 Confusion Matrix and Report"
      ]
    },
    {
      "cell_type": "code",
      "metadata": {
        "id": "iXkilPX18XeO",
        "colab": {
          "base_uri": "https://localhost:8080/"
        },
        "outputId": "77db6b00-79fa-42f8-fe30-8123210eb129"
      },
      "source": [
        "if clf == mlp:\n",
        "   print(\"Neural Network (MLP Classifier) \\n\")\n",
        "elif clf == svm:\n",
        "   print(\"SVM Classifier\\n\")\n",
        "elif clf == lr:\n",
        "   print(\"Logistic Regression\\n\")\n",
        "\n",
        "print(\"Test Confusion Matrix:\\n\")\n",
        "confusion_matrix(y_test, yhat_clf_test)"
      ],
      "execution_count": null,
      "outputs": [
        {
          "output_type": "stream",
          "text": [
            "Neural Network (MLP Classifier) \n",
            "\n",
            "Test Confusion Matrix:\n",
            "\n"
          ],
          "name": "stdout"
        },
        {
          "output_type": "execute_result",
          "data": {
            "text/plain": [
              "array([[ 969,    0,    1,    0,    1,    1,    4,    1,    3,    0],\n",
              "       [   0, 1125,    2,    2,    0,    0,    2,    1,    3,    0],\n",
              "       [   4,    1, 1008,    5,    0,    0,    3,    5,    6,    0],\n",
              "       [   0,    0,    3,  978,    1,   14,    0,    5,    5,    4],\n",
              "       [   3,    0,    6,    1,  955,    1,    3,    2,    0,   11],\n",
              "       [   2,    1,    1,    7,    1,  867,    6,    0,    5,    2],\n",
              "       [   8,    3,    1,    1,    5,    6,  933,    0,    1,    0],\n",
              "       [   0,    3,   16,    3,    4,    1,    0,  992,    3,    6],\n",
              "       [   3,    1,    5,    4,    6,    4,    3,    3,  940,    5],\n",
              "       [   2,    3,    0,    7,   12,    4,    1,    6,    6,  968]])"
            ]
          },
          "metadata": {
            "tags": []
          },
          "execution_count": 34
        }
      ]
    },
    {
      "cell_type": "code",
      "metadata": {
        "id": "hLcBrYzM8lwi",
        "colab": {
          "base_uri": "https://localhost:8080/"
        },
        "outputId": "c1c65161-f50e-40c4-8151-d4dc87a2f6ff"
      },
      "source": [
        "if clf == mlp:\n",
        "   print(\"Neural Network (MLP Classifier) \\n\")\n",
        "elif clf == svm:\n",
        "   print(\"SVM Classifier\\n\")\n",
        "elif clf == lr:\n",
        "   print(\"Logistic Regression\\n\")\n",
        "\n",
        "print(\"Test Report:\\n\")\n",
        "print(classification_report(y_test, \n",
        "                            yhat_clf_test))"
      ],
      "execution_count": null,
      "outputs": [
        {
          "output_type": "stream",
          "text": [
            "Neural Network (MLP Classifier) \n",
            "\n",
            "Test Report:\n",
            "\n",
            "              precision    recall  f1-score   support\n",
            "\n",
            "           0       0.98      0.99      0.98       980\n",
            "           1       0.99      0.99      0.99      1135\n",
            "           2       0.97      0.98      0.97      1032\n",
            "           3       0.97      0.97      0.97      1010\n",
            "           4       0.97      0.97      0.97       982\n",
            "           5       0.97      0.97      0.97       892\n",
            "           6       0.98      0.97      0.98       958\n",
            "           7       0.98      0.96      0.97      1028\n",
            "           8       0.97      0.97      0.97       974\n",
            "           9       0.97      0.96      0.97      1009\n",
            "\n",
            "    accuracy                           0.97     10000\n",
            "   macro avg       0.97      0.97      0.97     10000\n",
            "weighted avg       0.97      0.97      0.97     10000\n",
            "\n"
          ],
          "name": "stdout"
        }
      ]
    }
  ]
}
