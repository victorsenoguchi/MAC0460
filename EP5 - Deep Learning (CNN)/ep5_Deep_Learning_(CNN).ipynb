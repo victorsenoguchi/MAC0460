{
  "nbformat": 4,
  "nbformat_minor": 0,
  "metadata": {
    "accelerator": "GPU",
    "colab": {
      "name": "ep5 - Deep Learning (CNN).ipynb",
      "provenance": [],
      "collapsed_sections": [
        "MkJOKw5S_JD-",
        "4hDVOGV4Y3-S",
        "Za_qY6xPCsjB",
        "GUolmALGVx8u",
        "iWc3Fy8aVx8y",
        "UOTkZl7dVx80",
        "QGiMvUGRVx81",
        "UYQNP5uuVx82",
        "xrFLJQs5tDxi",
        "ri1rQ-OwtH0d",
        "FPNj5BnGVx85"
      ],
      "authorship_tag": "ABX9TyOdUTiJfZoUy5ArXGIJxWuV",
      "include_colab_link": true
    },
    "kernelspec": {
      "display_name": "Python 3",
      "name": "python3"
    },
    "language_info": {
      "name": "python"
    }
  },
  "cells": [
    {
      "cell_type": "markdown",
      "metadata": {
        "id": "view-in-github",
        "colab_type": "text"
      },
      "source": [
        "<a href=\"https://colab.research.google.com/github/victorsenoguchi/MAC0460_-_Introduction_to_Machine_Learning/blob/main/EP5%20-%20Deep%20Learning%20(CNN)/ep5_Deep_Learning_(CNN).ipynb\" target=\"_parent\"><img src=\"https://colab.research.google.com/assets/colab-badge.svg\" alt=\"Open In Colab\"/></a>"
      ]
    },
    {
      "cell_type": "markdown",
      "metadata": {
        "id": "MkJOKw5S_JD-"
      },
      "source": [
        "# 1. Setup"
      ]
    },
    {
      "cell_type": "code",
      "metadata": {
        "id": "yqV_drAC_B3s"
      },
      "source": [
        "import numpy as np\n",
        "import pandas as pd\n",
        "import matplotlib.pyplot as plt\n",
        "import tensorflow as tf"
      ],
      "execution_count": 10,
      "outputs": []
    },
    {
      "cell_type": "code",
      "metadata": {
        "id": "JKoyhUNwE7Qk"
      },
      "source": [
        "from tensorflow.keras import models, layers, regularizers\n",
        "from sklearn.model_selection import train_test_split\n",
        "from time import time"
      ],
      "execution_count": 11,
      "outputs": []
    },
    {
      "cell_type": "code",
      "metadata": {
        "id": "gvAtPBLHG2-w"
      },
      "source": [
        "seed= 2021\n",
        "\n",
        "np.random.seed(seed); tf.random.set_seed(seed)"
      ],
      "execution_count": 12,
      "outputs": []
    },
    {
      "cell_type": "markdown",
      "metadata": {
        "id": "iZB8J4C2X4b3"
      },
      "source": [
        "# 2. MNIST Dataset"
      ]
    },
    {
      "cell_type": "code",
      "metadata": {
        "id": "Rx5FxnP7Y3q-"
      },
      "source": [
        " from tensorflow.keras.datasets import mnist"
      ],
      "execution_count": 13,
      "outputs": []
    },
    {
      "cell_type": "markdown",
      "metadata": {
        "id": "4hDVOGV4Y3-S"
      },
      "source": [
        "## 2.1. Data Preparation"
      ]
    },
    {
      "cell_type": "code",
      "metadata": {
        "id": "pkbBxDNzAryU"
      },
      "source": [
        "(X_train_ori, y_train_ori), (X_test_ori, y_test_ori) = mnist.load_data()"
      ],
      "execution_count": 14,
      "outputs": []
    },
    {
      "cell_type": "code",
      "metadata": {
        "id": "2QPJnRiYBbHd"
      },
      "source": [
        "num_classes = max(len(np.unique(y_train_ori)),\n",
        "                  len(np.unique(y_test_ori)))"
      ],
      "execution_count": 15,
      "outputs": []
    },
    {
      "cell_type": "code",
      "metadata": {
        "id": "Ku88dSrIjoQM"
      },
      "source": [
        "X_train_ori = (X_train_ori/255.0).astype(\"float32\")\n",
        "y = y_train_ori\n",
        "X_test_ori = (X_test_ori/255.0).astype(\"float32\")\n",
        "y_test = y_test_ori"
      ],
      "execution_count": 16,
      "outputs": []
    },
    {
      "cell_type": "markdown",
      "metadata": {
        "id": "Za_qY6xPCsjB"
      },
      "source": [
        "## 2.2. MultiLayer Neural Network"
      ]
    },
    {
      "cell_type": "code",
      "metadata": {
        "id": "1lL1wQ78DPjY"
      },
      "source": [
        "X = X_train_ori.reshape((60000,28*28))\n",
        "X_test = X_test_ori.reshape((10000,28*28))"
      ],
      "execution_count": 17,
      "outputs": []
    },
    {
      "cell_type": "code",
      "metadata": {
        "id": "3kDhypX3F8IL"
      },
      "source": [
        "X_train, X_val, y_train, y_val = train_test_split(X,  \n",
        "                                                  y,\n",
        "                                                  stratify = y,\n",
        "                                                  train_size = 0.9,\n",
        "                                                  random_state = seed)"
      ],
      "execution_count": 18,
      "outputs": []
    },
    {
      "cell_type": "markdown",
      "metadata": {
        "id": "bkf9Zxd0aFbt"
      },
      "source": [
        "### 2.2.1. Defining and Training Model"
      ]
    },
    {
      "cell_type": "code",
      "metadata": {
        "colab": {
          "base_uri": "https://localhost:8080/"
        },
        "id": "Jivg3ARwGoRR",
        "outputId": "abf4af87-16f7-48db-b12c-fcd10500a5af"
      },
      "source": [
        "mnn = models.Sequential()\n",
        " \n",
        "mnn.add(layers.Dense(256, \n",
        "                     activation = \"relu\", \n",
        "                     input_shape = (28*28,)))\n",
        " \n",
        "mnn.add(layers.Dropout(0.5))\n",
        " \n",
        "mnn.add(layers.Dense(256,\n",
        "                     activation = \"relu\"))\n",
        " \n",
        "mnn.add(layers.Dropout(0.5))\n",
        " \n",
        "mnn.add(layers.Dense(num_classes, \n",
        "                     activation = \"softmax\"))\n",
        "                    \n",
        "mnn.compile(optimizer = \"adam\",\n",
        "            loss = \"sparse_categorical_crossentropy\",   \n",
        "            metrics = ['accuracy'])\n",
        " \n",
        "ti = time()\n",
        "mnn_mnist = mnn.fit(X_train,\n",
        "                    y_train, \n",
        "                    validation_data = (X_val, y_val),\n",
        "                    epochs = 16,\n",
        "                    batch_size = 64,\n",
        "                    verbose = 1)\n",
        "tf = time()\n",
        "mnn_tt = tf - ti"
      ],
      "execution_count": 19,
      "outputs": [
        {
          "output_type": "stream",
          "name": "stdout",
          "text": [
            "Epoch 1/16\n",
            "844/844 [==============================] - 4s 4ms/step - loss: 0.4266 - accuracy: 0.8691 - val_loss: 0.1526 - val_accuracy: 0.9533\n",
            "Epoch 2/16\n",
            "844/844 [==============================] - 3s 4ms/step - loss: 0.2134 - accuracy: 0.9378 - val_loss: 0.1156 - val_accuracy: 0.9667\n",
            "Epoch 3/16\n",
            "844/844 [==============================] - 3s 4ms/step - loss: 0.1709 - accuracy: 0.9495 - val_loss: 0.1020 - val_accuracy: 0.9697\n",
            "Epoch 4/16\n",
            "844/844 [==============================] - 3s 4ms/step - loss: 0.1506 - accuracy: 0.9547 - val_loss: 0.0956 - val_accuracy: 0.9730\n",
            "Epoch 5/16\n",
            "844/844 [==============================] - 3s 4ms/step - loss: 0.1306 - accuracy: 0.9607 - val_loss: 0.0859 - val_accuracy: 0.9753\n",
            "Epoch 6/16\n",
            "844/844 [==============================] - 3s 4ms/step - loss: 0.1204 - accuracy: 0.9643 - val_loss: 0.0834 - val_accuracy: 0.9753\n",
            "Epoch 7/16\n",
            "844/844 [==============================] - 3s 4ms/step - loss: 0.1146 - accuracy: 0.9656 - val_loss: 0.0765 - val_accuracy: 0.9773\n",
            "Epoch 8/16\n",
            "844/844 [==============================] - 3s 4ms/step - loss: 0.1070 - accuracy: 0.9671 - val_loss: 0.0781 - val_accuracy: 0.9768\n",
            "Epoch 9/16\n",
            "844/844 [==============================] - 4s 4ms/step - loss: 0.1034 - accuracy: 0.9684 - val_loss: 0.0772 - val_accuracy: 0.9767\n",
            "Epoch 10/16\n",
            "844/844 [==============================] - 3s 4ms/step - loss: 0.0979 - accuracy: 0.9705 - val_loss: 0.0782 - val_accuracy: 0.9778\n",
            "Epoch 11/16\n",
            "844/844 [==============================] - 3s 4ms/step - loss: 0.0927 - accuracy: 0.9716 - val_loss: 0.0765 - val_accuracy: 0.9783\n",
            "Epoch 12/16\n",
            "844/844 [==============================] - 4s 4ms/step - loss: 0.0931 - accuracy: 0.9705 - val_loss: 0.0750 - val_accuracy: 0.9785\n",
            "Epoch 13/16\n",
            "844/844 [==============================] - 3s 4ms/step - loss: 0.0853 - accuracy: 0.9731 - val_loss: 0.0765 - val_accuracy: 0.9788\n",
            "Epoch 14/16\n",
            "844/844 [==============================] - 3s 4ms/step - loss: 0.0859 - accuracy: 0.9739 - val_loss: 0.0706 - val_accuracy: 0.9795\n",
            "Epoch 15/16\n",
            "844/844 [==============================] - 3s 4ms/step - loss: 0.0816 - accuracy: 0.9745 - val_loss: 0.0762 - val_accuracy: 0.9785\n",
            "Epoch 16/16\n",
            "844/844 [==============================] - 3s 4ms/step - loss: 0.0807 - accuracy: 0.9756 - val_loss: 0.0656 - val_accuracy: 0.9817\n"
          ]
        }
      ]
    },
    {
      "cell_type": "markdown",
      "metadata": {
        "id": "6cvxuAk2aVzW"
      },
      "source": [
        "### 2.2.2. Evaluation"
      ]
    },
    {
      "cell_type": "markdown",
      "metadata": {
        "id": "VeXBRECLab_u"
      },
      "source": [
        "##### Loss Curves"
      ]
    },
    {
      "cell_type": "code",
      "metadata": {
        "colab": {
          "base_uri": "https://localhost:8080/",
          "height": 352
        },
        "id": "BWnPv_ZUWkUK",
        "outputId": "cb2b2821-0cb2-4e5e-d00d-a47c5c7699be"
      },
      "source": [
        "plt.figure(figsize = [7, 5]) \n",
        "plt.plot(mnn_mnist.history[\"loss\"], \"r\", linewidth = 2.1) \n",
        "plt.plot(mnn_mnist.history[\"val_loss\"], \"b\", linewidth = 2.1) \n",
        "plt.legend([\"Training Loss\", \"Validation Loss\"],fontsize = 12) \n",
        "plt.xlabel(\"Epoch\", fontsize = 10)\n",
        "plt.ylabel(\"Loss\", fontsize = 10) \n",
        "plt.title(\"Loss Curves\", fontsize = 15)\n",
        "plt.show()"
      ],
      "execution_count": 20,
      "outputs": [
        {
          "output_type": "display_data",
          "data": {
            "text/plain": [
              "<Figure size 504x360 with 1 Axes>"
            ],
            "image/png": "[encoded data removed]"
          },
          "metadata": {
            "needs_background": "light"
          }
        }
      ]
    },
    {
      "cell_type": "markdown",
      "metadata": {
        "id": "3HvAqJVeakd9"
      },
      "source": [
        "##### Accuracy Curves"
      ]
    },
    {
      "cell_type": "code",
      "metadata": {
        "colab": {
          "base_uri": "https://localhost:8080/",
          "height": 352
        },
        "id": "GnKl6ymeSm5T",
        "outputId": "fb23f9b8-feb7-4ea4-a055-d6d5536d8a40"
      },
      "source": [
        "plt.figure(figsize = [7, 5]) \n",
        "plt.plot(mnn_mnist.history[\"accuracy\"], \"r\", linewidth = 2.1) \n",
        "plt.plot(mnn_mnist.history[\"val_accuracy\"], \"b\", linewidth = 2.1) \n",
        "plt.legend([\"Training Accuracy\", \"Validation Accuracy\"],fontsize = 12) \n",
        "plt.xlabel(\"Epoch\", fontsize = 10)\n",
        "plt.ylabel(\"Accuracy\", fontsize = 10) \n",
        "plt.title(\"Accuracy Curves\", fontsize = 15)\n",
        "plt.show()"
      ],
      "execution_count": 21,
      "outputs": [
        {
          "output_type": "display_data",
          "data": {
            "text/plain": [
              "<Figure size 504x360 with 1 Axes>"
            ],
            "image/png": "[encoded data removed]"
          },
          "metadata": {
            "needs_background": "light"
          }
        }
      ]
    },
    {
      "cell_type": "markdown",
      "metadata": {
        "id": "LRETVvAzsSAY"
      },
      "source": [
        "##### Test Set Evaluation"
      ]
    },
    {
      "cell_type": "code",
      "metadata": {
        "colab": {
          "base_uri": "https://localhost:8080/"
        },
        "id": "1BWFZ88LIZAD",
        "outputId": "6bac0897-ad8a-4296-d3e3-5a38d0049890"
      },
      "source": [
        "[mnn_loss, mnn_acc] = mnn.evaluate(X_test, y_test)\n",
        "print(\"\\nEvaluation result on Test Set :\\n\\n Loss = {0:.3f}\\n Accuracy = {1:.3f}\".format(mnn_loss, mnn_acc))\n",
        " \n",
        "print(\" Training Time: {0:.3f}s\".format(mnn_tt))"
      ],
      "execution_count": 22,
      "outputs": [
        {
          "output_type": "stream",
          "name": "stdout",
          "text": [
            "313/313 [==============================] - 1s 3ms/step - loss: 0.0689 - accuracy: 0.9803\n",
            "\n",
            "Evaluation result on Test Set :\n",
            "\n",
            " Loss = 0.069\n",
            " Accuracy = 0.980\n",
            " Training Time: 54.330s\n"
          ]
        }
      ]
    },
    {
      "cell_type": "markdown",
      "metadata": {
        "id": "uAIVc5WRXp0P"
      },
      "source": [
        "## 2.3. Convolutional Neural Network"
      ]
    },
    {
      "cell_type": "code",
      "metadata": {
        "id": "gCpDSQFvodHm"
      },
      "source": [
        "X = X_train_ori.reshape((60000, 28, 28, 1))\n",
        "X_test = X_test_ori.reshape((10000, 28, 28, 1))"
      ],
      "execution_count": 23,
      "outputs": []
    },
    {
      "cell_type": "code",
      "metadata": {
        "id": "8v1WJmZmorO7"
      },
      "source": [
        "X_train, X_val, y_train, y_val = train_test_split(X,  \n",
        "                                                  y, \n",
        "                                                  stratify = y,\n",
        "                                                  train_size = 0.9,\n",
        "                                                  random_state = seed)"
      ],
      "execution_count": 24,
      "outputs": []
    },
    {
      "cell_type": "markdown",
      "metadata": {
        "id": "sn89skTepZJB"
      },
      "source": [
        "### 2.3.1. Defining and Training Model"
      ]
    },
    {
      "cell_type": "code",
      "metadata": {
        "colab": {
          "base_uri": "https://localhost:8080/"
        },
        "id": "1ExCOFYCXw9S",
        "outputId": "eba425ff-ddc7-4d78-e363-b3608a9b3262"
      },
      "source": [
        "cnn = models.Sequential()\n",
        " \n",
        "cnn.add(layers.Conv2D(32, (3, 3), activation = \"relu\", input_shape = (28, 28, 1)))\n",
        "cnn.add(layers.MaxPooling2D((2, 2)))\n",
        " \n",
        "cnn.add(layers.Flatten())\n",
        "cnn.add(layers.Dropout(0.5))\n",
        " \n",
        "cnn.add(layers.Dense(64, activation = \"relu\"))\n",
        " \n",
        "cnn.add(layers.Dense(10, activation = \"softmax\"))\n",
        " \n",
        "cnn.compile(optimizer = 'adam',\n",
        "            loss = \"sparse_categorical_crossentropy\",\n",
        "            metrics = ['accuracy'])\n",
        " \n",
        "ti = time()\n",
        "cnn_mnist = cnn.fit(X_train,  \n",
        "                    y_train, \n",
        "                    validation_data = (X_val, y_val),\n",
        "                    batch_size = 64,\n",
        "                    epochs = 16)\n",
        "tf = time()\n",
        "cnn_tt = tf - ti"
      ],
      "execution_count": 25,
      "outputs": [
        {
          "output_type": "stream",
          "name": "stdout",
          "text": [
            "Epoch 1/16\n",
            "844/844 [==============================] - 6s 6ms/step - loss: 0.2721 - accuracy: 0.9201 - val_loss: 0.1115 - val_accuracy: 0.9668\n",
            "Epoch 2/16\n",
            "844/844 [==============================] - 5s 6ms/step - loss: 0.1077 - accuracy: 0.9677 - val_loss: 0.0623 - val_accuracy: 0.9800\n",
            "Epoch 3/16\n",
            "844/844 [==============================] - 5s 6ms/step - loss: 0.0790 - accuracy: 0.9758 - val_loss: 0.0569 - val_accuracy: 0.9823\n",
            "Epoch 4/16\n",
            "844/844 [==============================] - 5s 6ms/step - loss: 0.0655 - accuracy: 0.9795 - val_loss: 0.0481 - val_accuracy: 0.9863\n",
            "Epoch 5/16\n",
            "844/844 [==============================] - 5s 6ms/step - loss: 0.0528 - accuracy: 0.9829 - val_loss: 0.0450 - val_accuracy: 0.9862\n",
            "Epoch 6/16\n",
            "844/844 [==============================] - 5s 6ms/step - loss: 0.0468 - accuracy: 0.9852 - val_loss: 0.0427 - val_accuracy: 0.9888\n",
            "Epoch 7/16\n",
            "844/844 [==============================] - 5s 6ms/step - loss: 0.0409 - accuracy: 0.9869 - val_loss: 0.0425 - val_accuracy: 0.9873\n",
            "Epoch 8/16\n",
            "844/844 [==============================] - 5s 6ms/step - loss: 0.0356 - accuracy: 0.9879 - val_loss: 0.0388 - val_accuracy: 0.9880\n",
            "Epoch 9/16\n",
            "844/844 [==============================] - 5s 6ms/step - loss: 0.0329 - accuracy: 0.9891 - val_loss: 0.0366 - val_accuracy: 0.9877\n",
            "Epoch 10/16\n",
            "844/844 [==============================] - 5s 6ms/step - loss: 0.0288 - accuracy: 0.9905 - val_loss: 0.0348 - val_accuracy: 0.9887\n",
            "Epoch 11/16\n",
            "844/844 [==============================] - 5s 6ms/step - loss: 0.0271 - accuracy: 0.9911 - val_loss: 0.0362 - val_accuracy: 0.9882\n",
            "Epoch 12/16\n",
            "844/844 [==============================] - 5s 6ms/step - loss: 0.0235 - accuracy: 0.9919 - val_loss: 0.0309 - val_accuracy: 0.9893\n",
            "Epoch 13/16\n",
            "844/844 [==============================] - 5s 6ms/step - loss: 0.0223 - accuracy: 0.9925 - val_loss: 0.0311 - val_accuracy: 0.9900\n",
            "Epoch 14/16\n",
            "844/844 [==============================] - 5s 6ms/step - loss: 0.0221 - accuracy: 0.9928 - val_loss: 0.0340 - val_accuracy: 0.9895\n",
            "Epoch 15/16\n",
            "844/844 [==============================] - 5s 6ms/step - loss: 0.0190 - accuracy: 0.9938 - val_loss: 0.0309 - val_accuracy: 0.9913\n",
            "Epoch 16/16\n",
            "844/844 [==============================] - 5s 6ms/step - loss: 0.0178 - accuracy: 0.9937 - val_loss: 0.0347 - val_accuracy: 0.9895\n"
          ]
        }
      ]
    },
    {
      "cell_type": "markdown",
      "metadata": {
        "id": "VKbcAucfqKq4"
      },
      "source": [
        "### 2.3.2. Evaluation"
      ]
    },
    {
      "cell_type": "markdown",
      "metadata": {
        "id": "eeShFvymrrxy"
      },
      "source": [
        "##### Loss Curves"
      ]
    },
    {
      "cell_type": "code",
      "metadata": {
        "colab": {
          "base_uri": "https://localhost:8080/",
          "height": 352
        },
        "id": "fwxf7Fapzzqy",
        "outputId": "fb296cd6-d45c-47f6-852e-e5cbb67f5bb8"
      },
      "source": [
        "plt.figure(figsize = [7, 5]) \n",
        "plt.plot(cnn_mnist.history[\"loss\"], \"r\", linewidth = 2.1) \n",
        "plt.plot(cnn_mnist.history[\"val_loss\"], \"b\", linewidth = 2.1) \n",
        "plt.legend([\"Training Loss\", \"Validation Loss\"],fontsize = 12) \n",
        "plt.xlabel(\"Epoch\", fontsize = 10)\n",
        "plt.ylabel(\"Loss\", fontsize = 10) \n",
        "plt.title(\"Loss Curves\", fontsize = 15)\n",
        "plt.show()"
      ],
      "execution_count": 26,
      "outputs": [
        {
          "output_type": "display_data",
          "data": {
            "text/plain": [
              "<Figure size 504x360 with 1 Axes>"
            ],
            "image/png": "[encoded data removed]"
          },
          "metadata": {
            "needs_background": "light"
          }
        }
      ]
    },
    {
      "cell_type": "markdown",
      "metadata": {
        "id": "2iww5GFVrv6F"
      },
      "source": [
        "##### Accuracy Curves"
      ]
    },
    {
      "cell_type": "code",
      "metadata": {
        "colab": {
          "base_uri": "https://localhost:8080/",
          "height": 352
        },
        "id": "UnrdBCTVz66O",
        "outputId": "1957d558-f5e0-4592-ba2d-6a6c460895c4"
      },
      "source": [
        "plt.figure(figsize = [7, 5]) \n",
        "plt.plot(cnn_mnist.history[\"accuracy\"], \"r\", linewidth = 2.1) \n",
        "plt.plot(cnn_mnist.history[\"val_accuracy\"], \"b\", linewidth = 2.1) \n",
        "plt.legend([\"Training Accuracy\", \"Validation Accuracy\"],fontsize = 12) \n",
        "plt.xlabel(\"Epoch\", fontsize = 10)\n",
        "plt.ylabel(\"Accuracy\", fontsize = 10) \n",
        "plt.title(\"Accuracy Curves\", fontsize = 15)\n",
        "plt.show()"
      ],
      "execution_count": 27,
      "outputs": [
        {
          "output_type": "display_data",
          "data": {
            "text/plain": [
              "<Figure size 504x360 with 1 Axes>"
            ],
            "image/png": "[encoded data removed]"
          },
          "metadata": {
            "needs_background": "light"
          }
        }
      ]
    },
    {
      "cell_type": "markdown",
      "metadata": {
        "id": "WQMRoy0lse7b"
      },
      "source": [
        "##### Test Set Evaluation"
      ]
    },
    {
      "cell_type": "code",
      "metadata": {
        "colab": {
          "base_uri": "https://localhost:8080/"
        },
        "id": "u0dV8J4g9yJl",
        "outputId": "7533f42b-defc-4d15-b446-01bc78e19f89"
      },
      "source": [
        "[cnn_loss, cnn_acc] = cnn.evaluate(X_test, y_test)\n",
        "print(\"\\nEvaluation result on Test Set:\\n\\n Loss = {0:.3f}\\n Accuracy = {1:.3f}\".format(cnn_loss, cnn_acc))\n",
        "\n",
        "print(\" Training Time: {0:.3f}s\".format(cnn_tt))"
      ],
      "execution_count": 28,
      "outputs": [
        {
          "output_type": "stream",
          "name": "stdout",
          "text": [
            "313/313 [==============================] - 1s 3ms/step - loss: 0.0328 - accuracy: 0.9899\n",
            "\n",
            "Evaluation result on Test Set:\n",
            "\n",
            " Loss = 0.033\n",
            " Accuracy = 0.990\n",
            " Training Time: 79.113s\n"
          ]
        }
      ]
    },
    {
      "cell_type": "markdown",
      "metadata": {
        "id": "UdDGt4FzezP5"
      },
      "source": [
        "## 2.4. Model Comparison"
      ]
    },
    {
      "cell_type": "code",
      "metadata": {
        "colab": {
          "base_uri": "https://localhost:8080/"
        },
        "id": "EEMizYBOe3JA",
        "outputId": "ed3043e0-f2e5-43d8-a881-e17672989d3e"
      },
      "source": [
        "if cnn_acc > mnn_acc:\n",
        "  print(\"The convolutial neural network has the best test accuracy\")\n",
        "  print(\"Test accuracy = {0:.3f}\".format(cnn_acc))\n",
        "  print(\"The convolutial neural network test accuracy is {0:.3f}% better than the multilayer neural network\".format(100*(cnn_acc-mnn_acc)/mnn_acc))\n",
        "else:\n",
        "  print(\"The multilayer neural network has the best test accuracy\")\n",
        "  print(\"Test Accuracy = {0:.3f}\".format(mnn_acc))\n",
        "  print(\"The multilayer neural network test accuracy is {0:.3f}% better than the convolutial neural network\".format(100*(mnn_acc-cnn_acc)/cnn_acc))\n",
        " \n",
        "print()\n",
        " \n",
        "if cnn_tt < mnn_tt:\n",
        "  print(\"The convolutial neural network has the best training time\")\n",
        "  print(\"Training time = {0:.3f}s\".format(cnn_tt))\n",
        "  print(\"The convolutial neural network training time is {0:.3f}% faster than the multilayer neural network\".format(100*(mnn_tt-cnn_tt)/cnn_tt))\n",
        "else:\n",
        "  print(\"The multilayer neural network has the best training time\")\n",
        "  print(\"Training time = {0:.3f}s\".format(mnn_tt))\n",
        "  print(\"The multilayer neural network training time is {0:.3f}% faster than the convolutial neural network\".format(100*(cnn_tt-mnn_tt)/mnn_tt))"
      ],
      "execution_count": 29,
      "outputs": [
        {
          "output_type": "stream",
          "name": "stdout",
          "text": [
            "The convolutial neural network has the best test accuracy\n",
            "Test accuracy = 0.990\n",
            "The convolutial neural network test accuracy is 0.979% better than the multilayer neural network\n",
            "\n",
            "The multilayer neural network has the best training time\n",
            "Training time = 54.330s\n",
            "The multilayer neural network training time is 45.614% faster than the convolutial neural network\n"
          ]
        }
      ]
    },
    {
      "cell_type": "markdown",
      "metadata": {
        "id": "RGlxOw_sVx8N"
      },
      "source": [
        "# 3. Fashion MNIST Dataset"
      ]
    },
    {
      "cell_type": "code",
      "metadata": {
        "id": "HP6hEGibVx8t"
      },
      "source": [
        "from tensorflow.keras.datasets import fashion_mnist"
      ],
      "execution_count": 30,
      "outputs": []
    },
    {
      "cell_type": "markdown",
      "metadata": {
        "id": "GUolmALGVx8u"
      },
      "source": [
        "## 3.1. Data Preparation"
      ]
    },
    {
      "cell_type": "code",
      "metadata": {
        "id": "Y-8llp9mVx8u"
      },
      "source": [
        "(X_train_ori, y_train_ori), (X_test_ori, y_test_ori) = fashion_mnist.load_data()"
      ],
      "execution_count": 31,
      "outputs": []
    },
    {
      "cell_type": "code",
      "metadata": {
        "id": "_DxSTAH2Vx8v"
      },
      "source": [
        "num_classes = max(len(np.unique(y_train_ori)),\n",
        "                  len(np.unique(y_test_ori)))"
      ],
      "execution_count": 32,
      "outputs": []
    },
    {
      "cell_type": "code",
      "metadata": {
        "id": "Ra9mbW2cVx8w"
      },
      "source": [
        "X_train_ori = (X_train_ori/255.0).astype(\"float32\")\n",
        "y = y_train_ori\n",
        "X_test_ori = (X_test_ori/255.0).astype(\"float32\")\n",
        "y_test = y_test_ori"
      ],
      "execution_count": 33,
      "outputs": []
    },
    {
      "cell_type": "markdown",
      "metadata": {
        "id": "i0fp-VDcVx8w"
      },
      "source": [
        "## 3.2. MultiLayer Neural Network"
      ]
    },
    {
      "cell_type": "code",
      "metadata": {
        "id": "ipu6ei3rVx8x"
      },
      "source": [
        "X = X_train_ori.reshape((60000,28*28))\n",
        "X_test = X_test_ori.reshape((10000,28*28))"
      ],
      "execution_count": 34,
      "outputs": []
    },
    {
      "cell_type": "code",
      "metadata": {
        "id": "wOPAm0kmVx8x"
      },
      "source": [
        "X_train, X_val, y_train, y_val = train_test_split(X,  \n",
        "                                                  y,\n",
        "                                                  stratify = y,\n",
        "                                                  train_size = 0.9,\n",
        "                                                  random_state = seed)"
      ],
      "execution_count": 35,
      "outputs": []
    },
    {
      "cell_type": "markdown",
      "metadata": {
        "id": "iWc3Fy8aVx8y"
      },
      "source": [
        "### 3.2.1. Defining and Training Model"
      ]
    },
    {
      "cell_type": "code",
      "metadata": {
        "colab": {
          "base_uri": "https://localhost:8080/"
        },
        "id": "OkOpvEReVx8y",
        "outputId": "f31359a8-3624-446f-bbfc-0a48599e3045"
      },
      "source": [
        "mnn = models.Sequential()\n",
        " \n",
        "mnn.add(layers.Dense(256, \n",
        "                     activation = \"relu\", \n",
        "                     input_shape = (28*28,)))\n",
        " \n",
        "mnn.add(layers.Dropout(0.25))\n",
        " \n",
        "mnn.add(layers.Dense(512,\n",
        "                     activation = \"relu\"))\n",
        " \n",
        "mnn.add(layers.Dropout(0.25))\n",
        " \n",
        "mnn.add(layers.Dense(512,\n",
        "                     activation = \"relu\"))\n",
        " \n",
        "mnn.add(layers.Dropout(0.25))\n",
        " \n",
        "mnn.add(layers.Dense(num_classes, \n",
        "                     activation = \"softmax\"))\n",
        "                    \n",
        "mnn.compile(optimizer = \"adam\",\n",
        "            loss = \"sparse_categorical_crossentropy\",   \n",
        "            metrics = ['accuracy'])\n",
        " \n",
        "ti = time()\n",
        "mnn_mnist = mnn.fit(X_train,\n",
        "                    y_train, \n",
        "                    validation_data = (X_val, y_val),\n",
        "                    epochs = 16,\n",
        "                    batch_size = 64,\n",
        "                    verbose = 1)\n",
        "tf = time()\n",
        "mnn_tt = tf - ti"
      ],
      "execution_count": 36,
      "outputs": [
        {
          "output_type": "stream",
          "name": "stdout",
          "text": [
            "Epoch 1/16\n",
            "844/844 [==============================] - 5s 5ms/step - loss: 0.5608 - accuracy: 0.7977 - val_loss: 0.4150 - val_accuracy: 0.8468\n",
            "Epoch 2/16\n",
            "844/844 [==============================] - 4s 5ms/step - loss: 0.4233 - accuracy: 0.8477 - val_loss: 0.3906 - val_accuracy: 0.8505\n",
            "Epoch 3/16\n",
            "844/844 [==============================] - 4s 5ms/step - loss: 0.3913 - accuracy: 0.8574 - val_loss: 0.3556 - val_accuracy: 0.8698\n",
            "Epoch 4/16\n",
            "844/844 [==============================] - 4s 5ms/step - loss: 0.3703 - accuracy: 0.8662 - val_loss: 0.3324 - val_accuracy: 0.8792\n",
            "Epoch 5/16\n",
            "844/844 [==============================] - 4s 5ms/step - loss: 0.3535 - accuracy: 0.8711 - val_loss: 0.3488 - val_accuracy: 0.8750\n",
            "Epoch 6/16\n",
            "844/844 [==============================] - 4s 5ms/step - loss: 0.3403 - accuracy: 0.8762 - val_loss: 0.3244 - val_accuracy: 0.8755\n",
            "Epoch 7/16\n",
            "844/844 [==============================] - 4s 5ms/step - loss: 0.3312 - accuracy: 0.8796 - val_loss: 0.3225 - val_accuracy: 0.8807\n",
            "Epoch 8/16\n",
            "844/844 [==============================] - 4s 5ms/step - loss: 0.3204 - accuracy: 0.8831 - val_loss: 0.3027 - val_accuracy: 0.8853\n",
            "Epoch 9/16\n",
            "844/844 [==============================] - 4s 5ms/step - loss: 0.3144 - accuracy: 0.8834 - val_loss: 0.3056 - val_accuracy: 0.8862\n",
            "Epoch 10/16\n",
            "844/844 [==============================] - 4s 5ms/step - loss: 0.3068 - accuracy: 0.8856 - val_loss: 0.3143 - val_accuracy: 0.8913\n",
            "Epoch 11/16\n",
            "844/844 [==============================] - 4s 5ms/step - loss: 0.3031 - accuracy: 0.8870 - val_loss: 0.3043 - val_accuracy: 0.8870\n",
            "Epoch 12/16\n",
            "844/844 [==============================] - 4s 5ms/step - loss: 0.2960 - accuracy: 0.8903 - val_loss: 0.2986 - val_accuracy: 0.8908\n",
            "Epoch 13/16\n",
            "844/844 [==============================] - 4s 5ms/step - loss: 0.2895 - accuracy: 0.8928 - val_loss: 0.3026 - val_accuracy: 0.8892\n",
            "Epoch 14/16\n",
            "844/844 [==============================] - 4s 5ms/step - loss: 0.2869 - accuracy: 0.8943 - val_loss: 0.3246 - val_accuracy: 0.8818\n",
            "Epoch 15/16\n",
            "844/844 [==============================] - 4s 5ms/step - loss: 0.2811 - accuracy: 0.8956 - val_loss: 0.3016 - val_accuracy: 0.8902\n",
            "Epoch 16/16\n",
            "844/844 [==============================] - 4s 5ms/step - loss: 0.2766 - accuracy: 0.8962 - val_loss: 0.3084 - val_accuracy: 0.8887\n"
          ]
        }
      ]
    },
    {
      "cell_type": "markdown",
      "metadata": {
        "id": "poBAecLRVx80"
      },
      "source": [
        "### 3.2.2. Evaluation"
      ]
    },
    {
      "cell_type": "markdown",
      "metadata": {
        "id": "UOTkZl7dVx80"
      },
      "source": [
        "##### Loss Curves"
      ]
    },
    {
      "cell_type": "code",
      "metadata": {
        "colab": {
          "base_uri": "https://localhost:8080/",
          "height": 352
        },
        "id": "F4fjLFsuVx80",
        "outputId": "3d25ff45-3b90-49cb-cc0b-9d5a87b75407"
      },
      "source": [
        "plt.figure(figsize = [7, 5]) \n",
        "plt.plot(mnn_mnist.history[\"loss\"], \"r\", linewidth = 2.1) \n",
        "plt.plot(mnn_mnist.history[\"val_loss\"], \"b\", linewidth = 2.1) \n",
        "plt.legend([\"Training Loss\", \"Validation Loss\"],fontsize = 12) \n",
        "plt.xlabel(\"Epoch\", fontsize = 10)\n",
        "plt.ylabel(\"Loss\", fontsize = 10) \n",
        "plt.title(\"Loss Curves\", fontsize = 15)\n",
        "plt.show()"
      ],
      "execution_count": 37,
      "outputs": [
        {
          "output_type": "display_data",
          "data": {
            "text/plain": [
              "<Figure size 504x360 with 1 Axes>"
            ],
            "image/png": "[encoded data removed]"
          },
          "metadata": {
            "needs_background": "light"
          }
        }
      ]
    },
    {
      "cell_type": "markdown",
      "metadata": {
        "id": "QGiMvUGRVx81"
      },
      "source": [
        "##### Accuracy Curves"
      ]
    },
    {
      "cell_type": "code",
      "metadata": {
        "colab": {
          "base_uri": "https://localhost:8080/",
          "height": 352
        },
        "id": "QgqBbaMeVx81",
        "outputId": "ff3b3101-8c0a-4de7-fc7e-dd14c68a85c7"
      },
      "source": [
        "plt.figure(figsize = [7, 5]) \n",
        "plt.plot(mnn_mnist.history[\"accuracy\"], \"r\", linewidth = 2.1) \n",
        "plt.plot(mnn_mnist.history[\"val_accuracy\"], \"b\", linewidth = 2.1) \n",
        "plt.legend([\"Training Accuracy\", \"Validation Accuracy\"],fontsize = 12) \n",
        "plt.xlabel(\"Epoch\", fontsize = 10)\n",
        "plt.ylabel(\"Accuracy\", fontsize = 10) \n",
        "plt.title(\"Accuracy Curves\", fontsize = 15)\n",
        "plt.show()"
      ],
      "execution_count": 38,
      "outputs": [
        {
          "output_type": "display_data",
          "data": {
            "text/plain": [
              "<Figure size 504x360 with 1 Axes>"
            ],
            "image/png": "[encoded data removed]"
          },
          "metadata": {
            "needs_background": "light"
          }
        }
      ]
    },
    {
      "cell_type": "markdown",
      "metadata": {
        "id": "UYQNP5uuVx82"
      },
      "source": [
        "##### Test Set Evaluation"
      ]
    },
    {
      "cell_type": "code",
      "metadata": {
        "colab": {
          "base_uri": "https://localhost:8080/"
        },
        "id": "8dL8W-jMVx82",
        "outputId": "7052f4be-185a-4b3d-e84a-54dce71b2528"
      },
      "source": [
        "[mnn_loss, mnn_acc] = mnn.evaluate(X_test, y_test)\n",
        "print(\"\\nEvaluation result on Test Set :\\n\\n Loss = {0:.3f}\\n Accuracy = {1:.3f}\".format(mnn_loss, mnn_acc))\n",
        "\n",
        "print(\" Training Time: {0:.3f}s\".format(mnn_tt))"
      ],
      "execution_count": 39,
      "outputs": [
        {
          "output_type": "stream",
          "name": "stdout",
          "text": [
            "313/313 [==============================] - 1s 3ms/step - loss: 0.3419 - accuracy: 0.8825\n",
            "\n",
            "Evaluation result on Test Set :\n",
            "\n",
            " Loss = 0.342\n",
            " Accuracy = 0.882\n",
            " Training Time: 63.052s\n"
          ]
        }
      ]
    },
    {
      "cell_type": "markdown",
      "metadata": {
        "id": "wz0Y2eCFVx83"
      },
      "source": [
        "## 3.3. Convolutional Neural Network"
      ]
    },
    {
      "cell_type": "code",
      "metadata": {
        "id": "_ycFk5I_Vx83"
      },
      "source": [
        "X = X_train_ori.reshape((60000, 28, 28, 1))\n",
        "X_test = X_test_ori.reshape((10000, 28, 28, 1))"
      ],
      "execution_count": 40,
      "outputs": []
    },
    {
      "cell_type": "code",
      "metadata": {
        "id": "wW5sB94xVx83"
      },
      "source": [
        "X_train, X_val, y_train, y_val = train_test_split(X,  \n",
        "                                                  y, \n",
        "                                                  stratify = y,\n",
        "                                                  train_size = 0.7, \n",
        "                                                  random_state = seed)"
      ],
      "execution_count": 41,
      "outputs": []
    },
    {
      "cell_type": "markdown",
      "metadata": {
        "id": "i42ElT9Ds138"
      },
      "source": [
        "### 3.2.1. Defining and Training Model"
      ]
    },
    {
      "cell_type": "code",
      "metadata": {
        "id": "zBGGWqqEVx83",
        "colab": {
          "base_uri": "https://localhost:8080/"
        },
        "outputId": "ef2271a0-c9d7-4c72-b3de-b0c429458fe3"
      },
      "source": [
        "cnn = models.Sequential()\n",
        "\n",
        "cnn.add(layers.Conv2D(32, (3, 3), activation = \"relu\", input_shape = (28, 28, 1)))\n",
        "cnn.add(layers.MaxPooling2D((2, 2)))\n",
        " \n",
        " \n",
        "cnn.add(layers.Flatten())\n",
        "cnn.add(layers.Dropout(0.5))\n",
        " \n",
        "cnn.add(layers.Dense(64, activation = \"relu\"))\n",
        "\n",
        "cnn.add(layers.Dense(10, activation = \"softmax\"))\n",
        " \n",
        "cnn.compile(optimizer = 'adam',\n",
        "            loss = \"sparse_categorical_crossentropy\",\n",
        "            metrics = ['accuracy'])\n",
        " \n",
        "ti = time()\n",
        "cnn_mnist = cnn.fit(X_train,  \n",
        "                    y_train, \n",
        "                    validation_data = (X_val, y_val),\n",
        "                    batch_size = 64,\n",
        "                    epochs = 16)\n",
        "tf = time()\n",
        "cnn_tt = tf - ti"
      ],
      "execution_count": 42,
      "outputs": [
        {
          "output_type": "stream",
          "name": "stdout",
          "text": [
            "Epoch 1/16\n",
            "657/657 [==============================] - 5s 8ms/step - loss: 0.5055 - accuracy: 0.8201 - val_loss: 0.3688 - val_accuracy: 0.8687\n",
            "Epoch 2/16\n",
            "657/657 [==============================] - 4s 7ms/step - loss: 0.3502 - accuracy: 0.8762 - val_loss: 0.3157 - val_accuracy: 0.8888\n",
            "Epoch 3/16\n",
            "657/657 [==============================] - 5s 7ms/step - loss: 0.3111 - accuracy: 0.8884 - val_loss: 0.2909 - val_accuracy: 0.8987\n",
            "Epoch 4/16\n",
            "657/657 [==============================] - 5s 7ms/step - loss: 0.2916 - accuracy: 0.8936 - val_loss: 0.3058 - val_accuracy: 0.8909\n",
            "Epoch 5/16\n",
            "657/657 [==============================] - 4s 6ms/step - loss: 0.2734 - accuracy: 0.9002 - val_loss: 0.2837 - val_accuracy: 0.9004\n",
            "Epoch 6/16\n",
            "657/657 [==============================] - 5s 7ms/step - loss: 0.2586 - accuracy: 0.9043 - val_loss: 0.2684 - val_accuracy: 0.9053\n",
            "Epoch 7/16\n",
            "657/657 [==============================] - 4s 6ms/step - loss: 0.2429 - accuracy: 0.9104 - val_loss: 0.2543 - val_accuracy: 0.9109\n",
            "Epoch 8/16\n",
            "657/657 [==============================] - 4s 6ms/step - loss: 0.2306 - accuracy: 0.9147 - val_loss: 0.2531 - val_accuracy: 0.9116\n",
            "Epoch 9/16\n",
            "657/657 [==============================] - 5s 7ms/step - loss: 0.2216 - accuracy: 0.9173 - val_loss: 0.2444 - val_accuracy: 0.9132\n",
            "Epoch 10/16\n",
            "657/657 [==============================] - 5s 7ms/step - loss: 0.2129 - accuracy: 0.9214 - val_loss: 0.2483 - val_accuracy: 0.9107\n",
            "Epoch 11/16\n",
            "657/657 [==============================] - 4s 7ms/step - loss: 0.2030 - accuracy: 0.9232 - val_loss: 0.2458 - val_accuracy: 0.9146\n",
            "Epoch 12/16\n",
            "657/657 [==============================] - 5s 7ms/step - loss: 0.1944 - accuracy: 0.9270 - val_loss: 0.2457 - val_accuracy: 0.9166\n",
            "Epoch 13/16\n",
            "657/657 [==============================] - 5s 7ms/step - loss: 0.1866 - accuracy: 0.9298 - val_loss: 0.2565 - val_accuracy: 0.9095\n",
            "Epoch 14/16\n",
            "657/657 [==============================] - 4s 7ms/step - loss: 0.1781 - accuracy: 0.9336 - val_loss: 0.2496 - val_accuracy: 0.9138\n",
            "Epoch 15/16\n",
            "657/657 [==============================] - 5s 7ms/step - loss: 0.1746 - accuracy: 0.9339 - val_loss: 0.2466 - val_accuracy: 0.9147\n",
            "Epoch 16/16\n",
            "657/657 [==============================] - 4s 7ms/step - loss: 0.1668 - accuracy: 0.9383 - val_loss: 0.2457 - val_accuracy: 0.9163\n"
          ]
        }
      ]
    },
    {
      "cell_type": "markdown",
      "metadata": {
        "id": "v5fFmSVDs9fc"
      },
      "source": [
        "### 3.2.2 Evaluation"
      ]
    },
    {
      "cell_type": "markdown",
      "metadata": {
        "id": "v2Z249ivtAvF"
      },
      "source": [
        "##### Loss Curves"
      ]
    },
    {
      "cell_type": "code",
      "metadata": {
        "id": "K7cikiAvVx84",
        "colab": {
          "base_uri": "https://localhost:8080/",
          "height": 0
        },
        "outputId": "c3cdf820-7648-45fd-811a-cbfc9cb4b9a7"
      },
      "source": [
        "plt.figure(figsize = [7, 5]) \n",
        "plt.plot(cnn_mnist.history[\"loss\"], \"r\", linewidth = 2.1) \n",
        "plt.plot(cnn_mnist.history[\"val_loss\"], \"b\", linewidth = 2.1) \n",
        "plt.legend([\"Training Loss\", \"Validation Loss\"],fontsize = 12) \n",
        "plt.xlabel(\"Epoch\", fontsize = 10)\n",
        "plt.ylabel(\"Loss\", fontsize = 10) \n",
        "plt.title(\"Loss Curves\", fontsize = 15)\n",
        "plt.show()"
      ],
      "execution_count": 43,
      "outputs": [
        {
          "output_type": "display_data",
          "data": {
            "text/plain": [
              "<Figure size 504x360 with 1 Axes>"
            ],
            "image/png": "[encoded data removed]"
          },
          "metadata": {
            "needs_background": "light"
          }
        }
      ]
    },
    {
      "cell_type": "markdown",
      "metadata": {
        "id": "xrFLJQs5tDxi"
      },
      "source": [
        "##### Accuracy Curves"
      ]
    },
    {
      "cell_type": "code",
      "metadata": {
        "id": "t22dyrBtVx84",
        "colab": {
          "base_uri": "https://localhost:8080/",
          "height": 0
        },
        "outputId": "2695282b-c5aa-4200-e4b1-889ce3039723"
      },
      "source": [
        "plt.figure(figsize = [7, 5]) \n",
        "plt.plot(cnn_mnist.history[\"accuracy\"], \"r\", linewidth = 2.1) \n",
        "plt.plot(cnn_mnist.history[\"val_accuracy\"], \"b\", linewidth = 2.1) \n",
        "plt.legend([\"Training Accuracy\", \"Validation Accuracy\"],fontsize = 12) \n",
        "plt.xlabel(\"Epoch\", fontsize = 10)\n",
        "plt.ylabel(\"Accuracy\", fontsize = 10) \n",
        "plt.title(\"Accuracy Curves\", fontsize = 15)\n",
        "plt.show()"
      ],
      "execution_count": 44,
      "outputs": [
        {
          "output_type": "display_data",
          "data": {
            "text/plain": [
              "<Figure size 504x360 with 1 Axes>"
            ],
            "image/png": "[encoded data removed]"
          },
          "metadata": {
            "needs_background": "light"
          }
        }
      ]
    },
    {
      "cell_type": "markdown",
      "metadata": {
        "id": "ri1rQ-OwtH0d"
      },
      "source": [
        "##### Test Set Evaluation"
      ]
    },
    {
      "cell_type": "code",
      "metadata": {
        "id": "wOGej_kTVx84",
        "colab": {
          "base_uri": "https://localhost:8080/"
        },
        "outputId": "84bb1961-c908-42a0-bdda-ac1591fc1044"
      },
      "source": [
        "[cnn_loss, cnn_acc] = cnn.evaluate(X_test, y_test)\n",
        "print(\"\\nEvaluation result on Test Set :\\n\\n Loss = {0:.3f}\\n Accuracy = {1:.3f}\".format(cnn_loss, cnn_acc))\n",
        " \n",
        "print(\" Training Time: {0:.3f}s\".format(cnn_tt))"
      ],
      "execution_count": 45,
      "outputs": [
        {
          "output_type": "stream",
          "name": "stdout",
          "text": [
            "313/313 [==============================] - 1s 3ms/step - loss: 0.2582 - accuracy: 0.9140\n",
            "\n",
            "Evaluation result on Test Set :\n",
            "\n",
            " Loss = 0.258\n",
            " Accuracy = 0.914\n",
            " Training Time: 73.578s\n"
          ]
        }
      ]
    },
    {
      "cell_type": "markdown",
      "metadata": {
        "id": "FPNj5BnGVx85"
      },
      "source": [
        "## 3.4. Model Comparison"
      ]
    },
    {
      "cell_type": "code",
      "metadata": {
        "id": "2CgmkSRRVx85",
        "colab": {
          "base_uri": "https://localhost:8080/"
        },
        "outputId": "ec0ca992-8e3b-446d-d4a1-c920a8412e11"
      },
      "source": [
        "if cnn_acc > mnn_acc:\n",
        "  print(\"The convolutial neural network has the best test accuracy\")\n",
        "  print(\"Test accuracy = {0:.3f}\".format(cnn_acc))\n",
        "  print(\"The convolutial neural network test accuracy is {0:.3f}% better than the multilayer neural network\".format(100*(cnn_acc-mnn_acc)/mnn_acc))\n",
        "else:\n",
        "  print(\"The multilayer neural network has the best test accuracy\")\n",
        "  print(\"Test Accuracy = {0:.3f}\".format(mnn_acc))\n",
        "  print(\"The multilayer neural network test accuracy is {0:.3f}% better than the convolutial neural network\".format(100*(mnn_acc-cnn_acc)/cnn_acc))\n",
        "\n",
        "print()\n",
        "\n",
        "if cnn_tt < mnn_tt:\n",
        "  print(\"The convolutial neural network has the best training time\")\n",
        "  print(\"Training time = {0:.3f}s\".format(cnn_tt))\n",
        "  print(\"The convolutial neural network training time is {0:.3f}% faster than the multilayer neural network\".format(100*(mnn_tt-cnn_tt)/cnn_tt))\n",
        "else:\n",
        "  print(\"The multilayer neural network has the best training time\")\n",
        "  print(\"Training time = {0:.3f}s\".format(mnn_tt))\n",
        "  print(\"The multilayer neural network training time is {0:.3f}% faster than the convolutial neural network\".format(100*(cnn_tt-mnn_tt)/mnn_tt))"
      ],
      "execution_count": 46,
      "outputs": [
        {
          "output_type": "stream",
          "name": "stdout",
          "text": [
            "The convolutial neural network has the best test accuracy\n",
            "Test accuracy = 0.914\n",
            "The convolutial neural network test accuracy is 3.569% better than the multilayer neural network\n",
            "\n",
            "The multilayer neural network has the best training time\n",
            "Training time = 63.052s\n",
            "The multilayer neural network training time is 16.694% faster than the convolutial neural network\n"
          ]
        }
      ]
    },
    {
      "cell_type": "markdown",
      "metadata": {
        "id": "mgIh0_ueKvDB"
      },
      "source": [
        "# 4. Conclusion\n",
        "\n",
        "We can notice that for both datasets the convolutional networks have a little better accuracy than the multilayer network, however their training time is much longer.\n"
      ]
    }
  ]
}