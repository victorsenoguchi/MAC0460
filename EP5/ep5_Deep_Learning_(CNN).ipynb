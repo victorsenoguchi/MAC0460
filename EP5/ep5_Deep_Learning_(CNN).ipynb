{
  "nbformat": 4,
  "nbformat_minor": 0,
  "metadata": {
    "accelerator": "GPU",
    "colab": {
      "name": "ep5 - Deep Learning (CNN).ipynb",
      "provenance": [],
      "collapsed_sections": [
        "MkJOKw5S_JD-",
        "4hDVOGV4Y3-S",
        "Za_qY6xPCsjB",
        "GUolmALGVx8u",
        "iWc3Fy8aVx8y",
        "UOTkZl7dVx80",
        "QGiMvUGRVx81",
        "UYQNP5uuVx82",
        "xrFLJQs5tDxi",
        "ri1rQ-OwtH0d",
        "FPNj5BnGVx85"
      ],
      "authorship_tag": "ABX9TyPa8xqRTr1iouVU5VRMAC+W",
      "include_colab_link": true
    },
    "kernelspec": {
      "display_name": "Python 3",
      "name": "python3"
    },
    "language_info": {
      "name": "python"
    }
  },
  "cells": [
    {
      "cell_type": "markdown",
      "metadata": {
        "id": "view-in-github",
        "colab_type": "text"
      },
      "source": [
        "<a href=\"https://colab.research.google.com/github/victorsenoguchi/MAC0460_-_Introduction_to_Machine_Learning/blob/main/ep5_Deep_Learning_(CNN).ipynb\" target=\"_parent\"><img src=\"https://colab.research.google.com/assets/colab-badge.svg\" alt=\"Open In Colab\"/></a>"
      ]
    },
    {
      "cell_type": "markdown",
      "metadata": {
        "id": "MkJOKw5S_JD-"
      },
      "source": [
        "# 1. Setup"
      ]
    },
    {
      "cell_type": "code",
      "metadata": {
        "id": "yqV_drAC_B3s"
      },
      "source": [
        "import numpy as np\n",
        "import pandas as pd\n",
        "import matplotlib.pyplot as plt\n",
        "import tensorflow as tf"
      ],
      "execution_count": null,
      "outputs": []
    },
    {
      "cell_type": "code",
      "metadata": {
        "id": "JKoyhUNwE7Qk"
      },
      "source": [
        "from tensorflow.keras import models, layers, regularizers\n",
        "from sklearn.model_selection import train_test_split\n",
        "from time import time"
      ],
      "execution_count": null,
      "outputs": []
    },
    {
      "cell_type": "code",
      "metadata": {
        "id": "gvAtPBLHG2-w"
      },
      "source": [
        "seed = 2021"
      ],
      "execution_count": null,
      "outputs": []
    },
    {
      "cell_type": "markdown",
      "metadata": {
        "id": "iZB8J4C2X4b3"
      },
      "source": [
        "# 2. MNIST Dataset"
      ]
    },
    {
      "cell_type": "code",
      "metadata": {
        "id": "Rx5FxnP7Y3q-"
      },
      "source": [
        " from tensorflow.keras.datasets import mnist"
      ],
      "execution_count": null,
      "outputs": []
    },
    {
      "cell_type": "markdown",
      "metadata": {
        "id": "4hDVOGV4Y3-S"
      },
      "source": [
        "## 2.1. Data Preparation"
      ]
    },
    {
      "cell_type": "code",
      "metadata": {
        "id": "pkbBxDNzAryU"
      },
      "source": [
        "(X_train_ori, y_train_ori), (X_test_ori, y_test_ori) = mnist.load_data()"
      ],
      "execution_count": null,
      "outputs": []
    },
    {
      "cell_type": "code",
      "metadata": {
        "id": "2QPJnRiYBbHd"
      },
      "source": [
        "num_classes = max(len(np.unique(y_train_ori)),\n",
        "                  len(np.unique(y_test_ori)))"
      ],
      "execution_count": null,
      "outputs": []
    },
    {
      "cell_type": "code",
      "metadata": {
        "id": "Ku88dSrIjoQM"
      },
      "source": [
        "X_train_ori = (X_train_ori/255.0).astype(\"float32\")\n",
        "y = y_train_ori\n",
        "X_test_ori = (X_test_ori/255.0).astype(\"float32\")\n",
        "y_test = y_test_ori"
      ],
      "execution_count": null,
      "outputs": []
    },
    {
      "cell_type": "markdown",
      "metadata": {
        "id": "Za_qY6xPCsjB"
      },
      "source": [
        "## 2.2. MultiLayer Neural Network"
      ]
    },
    {
      "cell_type": "code",
      "metadata": {
        "id": "1lL1wQ78DPjY"
      },
      "source": [
        "X = X_train_ori.reshape((60000,28*28))\n",
        "X_test = X_test_ori.reshape((10000,28*28))"
      ],
      "execution_count": null,
      "outputs": []
    },
    {
      "cell_type": "code",
      "metadata": {
        "id": "3kDhypX3F8IL"
      },
      "source": [
        "X_train, X_val, y_train, y_val = train_test_split(X,  \n",
        "                                                  y,\n",
        "                                                  stratify = y,\n",
        "                                                  train_size = 0.9, \n",
        "                                                  random_state = seed)"
      ],
      "execution_count": null,
      "outputs": []
    },
    {
      "cell_type": "markdown",
      "metadata": {
        "id": "bkf9Zxd0aFbt"
      },
      "source": [
        "### 2.2.1. Defining and Training Model"
      ]
    },
    {
      "cell_type": "code",
      "metadata": {
        "colab": {
          "base_uri": "https://localhost:8080/"
        },
        "id": "Jivg3ARwGoRR",
        "outputId": "c32d9b0e-79b2-4c99-976f-9da08fa7eedb"
      },
      "source": [
        "mnn = models.Sequential()\n",
        " \n",
        "mnn.add(layers.Dense(256, \n",
        "                     activation = \"relu\", \n",
        "                     input_shape = (28*28,)))\n",
        " \n",
        "mnn.add(layers.Dropout(0.5))\n",
        " \n",
        "mnn.add(layers.Dense(256,\n",
        "                     activation = \"relu\"))\n",
        " \n",
        "mnn.add(layers.Dropout(0.5))\n",
        " \n",
        "mnn.add(layers.Dense(num_classes, \n",
        "                     activation = \"softmax\"))\n",
        "                    \n",
        "mnn.compile(optimizer = \"adam\",\n",
        "            loss = \"sparse_categorical_crossentropy\",   \n",
        "            metrics = ['accuracy'])\n",
        " \n",
        "ti = time()\n",
        "mnn_mnist = mnn.fit(X_train,\n",
        "                    y_train, \n",
        "                    validation_data = (X_val, y_val),\n",
        "                    epochs = 16,\n",
        "                    batch_size = 64,\n",
        "                    verbose = 1)\n",
        "tf = time()\n",
        "mnn_tt = tf - ti"
      ],
      "execution_count": null,
      "outputs": [
        {
          "output_type": "stream",
          "text": [
            "Epoch 1/16\n",
            "844/844 [==============================] - 4s 4ms/step - loss: 0.4251 - accuracy: 0.8673 - val_loss: 0.1497 - val_accuracy: 0.9557\n",
            "Epoch 2/16\n",
            "844/844 [==============================] - 3s 3ms/step - loss: 0.2078 - accuracy: 0.9374 - val_loss: 0.1082 - val_accuracy: 0.9677\n",
            "Epoch 3/16\n",
            "844/844 [==============================] - 3s 3ms/step - loss: 0.1668 - accuracy: 0.9501 - val_loss: 0.0958 - val_accuracy: 0.9712\n",
            "Epoch 4/16\n",
            "844/844 [==============================] - 3s 3ms/step - loss: 0.1458 - accuracy: 0.9564 - val_loss: 0.0883 - val_accuracy: 0.9738\n",
            "Epoch 5/16\n",
            "844/844 [==============================] - 3s 3ms/step - loss: 0.1339 - accuracy: 0.9594 - val_loss: 0.0879 - val_accuracy: 0.9738\n",
            "Epoch 6/16\n",
            "844/844 [==============================] - 3s 3ms/step - loss: 0.1216 - accuracy: 0.9627 - val_loss: 0.0824 - val_accuracy: 0.9775\n",
            "Epoch 7/16\n",
            "844/844 [==============================] - 3s 3ms/step - loss: 0.1160 - accuracy: 0.9649 - val_loss: 0.0833 - val_accuracy: 0.9762\n",
            "Epoch 8/16\n",
            "844/844 [==============================] - 3s 3ms/step - loss: 0.1096 - accuracy: 0.9665 - val_loss: 0.0840 - val_accuracy: 0.9757\n",
            "Epoch 9/16\n",
            "844/844 [==============================] - 3s 3ms/step - loss: 0.0984 - accuracy: 0.9696 - val_loss: 0.0730 - val_accuracy: 0.9787\n",
            "Epoch 10/16\n",
            "844/844 [==============================] - 3s 3ms/step - loss: 0.0970 - accuracy: 0.9709 - val_loss: 0.0739 - val_accuracy: 0.9787\n",
            "Epoch 11/16\n",
            "844/844 [==============================] - 3s 3ms/step - loss: 0.0950 - accuracy: 0.9706 - val_loss: 0.0769 - val_accuracy: 0.9772\n",
            "Epoch 12/16\n",
            "844/844 [==============================] - 3s 3ms/step - loss: 0.0900 - accuracy: 0.9722 - val_loss: 0.0708 - val_accuracy: 0.9807\n",
            "Epoch 13/16\n",
            "844/844 [==============================] - 3s 3ms/step - loss: 0.0849 - accuracy: 0.9733 - val_loss: 0.0800 - val_accuracy: 0.9783\n",
            "Epoch 14/16\n",
            "844/844 [==============================] - 3s 3ms/step - loss: 0.0820 - accuracy: 0.9746 - val_loss: 0.0787 - val_accuracy: 0.9762\n",
            "Epoch 15/16\n",
            "844/844 [==============================] - 3s 3ms/step - loss: 0.0831 - accuracy: 0.9745 - val_loss: 0.0684 - val_accuracy: 0.9803\n",
            "Epoch 16/16\n",
            "844/844 [==============================] - 3s 3ms/step - loss: 0.0805 - accuracy: 0.9755 - val_loss: 0.0699 - val_accuracy: 0.9813\n"
          ],
          "name": "stdout"
        }
      ]
    },
    {
      "cell_type": "markdown",
      "metadata": {
        "id": "6cvxuAk2aVzW"
      },
      "source": [
        "### 2.2.2. Evaluation"
      ]
    },
    {
      "cell_type": "markdown",
      "metadata": {
        "id": "VeXBRECLab_u"
      },
      "source": [
        "##### Loss Curves"
      ]
    },
    {
      "cell_type": "code",
      "metadata": {
        "colab": {
          "base_uri": "https://localhost:8080/",
          "height": 219
        },
        "id": "BWnPv_ZUWkUK",
        "outputId": "444a314d-c3a2-444f-ed4a-252929d25e83"
      },
      "source": [
        "plt.figure(figsize = [7, 5]) \n",
        "plt.plot(mnn_mnist.history[\"loss\"], \"r\", linewidth = 2.1) \n",
        "plt.plot(mnn_mnist.history[\"val_loss\"], \"b\", linewidth = 2.1) \n",
        "plt.legend([\"Training Loss\", \"Validation Loss\"],fontsize = 12) \n",
        "plt.xlabel(\"Epoch\", fontsize = 10)\n",
        "plt.ylabel(\"Loss\", fontsize = 10) \n",
        "plt.title(\"Loss Curves\", fontsize = 15)\n",
        "plt.show()"
      ],
      "execution_count": null,
      "outputs": [
        {
          "output_type": "display_data",
          "data": {
            "image/png": "[encoded data removed]",
            "text/plain": [
              "<Figure size 504x360 with 1 Axes>"
            ]
          },
          "metadata": {
            "tags": [],
            "needs_background": "light"
          }
        }
      ]
    },
    {
      "cell_type": "markdown",
      "metadata": {
        "id": "3HvAqJVeakd9"
      },
      "source": [
        "##### Accuracy Curves"
      ]
    },
    {
      "cell_type": "code",
      "metadata": {
        "colab": {
          "base_uri": "https://localhost:8080/",
          "height": 219
        },
        "id": "GnKl6ymeSm5T",
        "outputId": "7958e131-e2c1-49ae-8f74-23701cb1890f"
      },
      "source": [
        "plt.figure(figsize = [7, 5]) \n",
        "plt.plot(mnn_mnist.history[\"accuracy\"], \"r\", linewidth = 2.1) \n",
        "plt.plot(mnn_mnist.history[\"val_accuracy\"], \"b\", linewidth = 2.1) \n",
        "plt.legend([\"Training Accuracy\", \"Validation Accuracy\"],fontsize = 12) \n",
        "plt.xlabel(\"Epoch\", fontsize = 10)\n",
        "plt.ylabel(\"Accuracy\", fontsize = 10) \n",
        "plt.title(\"Accuracy Curves\", fontsize = 15)\n",
        "plt.show()"
      ],
      "execution_count": null,
      "outputs": [
        {
          "output_type": "display_data",
          "data": {
            "image/png": "[encoded data removed]",
            "text/plain": [
              "<Figure size 504x360 with 1 Axes>"
            ]
          },
          "metadata": {
            "tags": [],
            "needs_background": "light"
          }
        }
      ]
    },
    {
      "cell_type": "markdown",
      "metadata": {
        "id": "LRETVvAzsSAY"
      },
      "source": [
        "##### Test Set Evaluation"
      ]
    },
    {
      "cell_type": "code",
      "metadata": {
        "colab": {
          "base_uri": "https://localhost:8080/"
        },
        "id": "1BWFZ88LIZAD",
        "outputId": "dbd1ea10-ef63-43d3-c792-c9e97e68456b"
      },
      "source": [
        "[mnn_loss, mnn_acc] = mnn.evaluate(X_test, y_test)\n",
        "print(\"\\nEvaluation result on Test Set :\\n\\n Loss = {0:.3f}\\n Accuracy = {1:.3f}\".format(mnn_loss, mnn_acc))\n",
        " \n",
        "print(\" Training Time: {0:.3f}s\".format(mnn_tt))"
      ],
      "execution_count": null,
      "outputs": [
        {
          "output_type": "stream",
          "text": [
            "313/313 [==============================] - 1s 3ms/step - loss: 0.0696 - accuracy: 0.9802\n",
            "\n",
            "Evaluation result on Test Set :\n",
            "\n",
            " Loss = 0.070\n",
            " Accuracy = 0.980\n",
            " Training Time: 82.472s\n"
          ],
          "name": "stdout"
        }
      ]
    },
    {
      "cell_type": "markdown",
      "metadata": {
        "id": "uAIVc5WRXp0P"
      },
      "source": [
        "## 2.3. Convolutional Neural Network"
      ]
    },
    {
      "cell_type": "code",
      "metadata": {
        "id": "gCpDSQFvodHm"
      },
      "source": [
        "X = X_train_ori.reshape((60000, 28, 28, 1))\n",
        "X_test = X_test_ori.reshape((10000, 28, 28, 1))"
      ],
      "execution_count": null,
      "outputs": []
    },
    {
      "cell_type": "code",
      "metadata": {
        "id": "8v1WJmZmorO7"
      },
      "source": [
        "X_train, X_val, y_train, y_val = train_test_split(X,  \n",
        "                                                  y, \n",
        "                                                  stratify = y,\n",
        "                                                  train_size = 0.9, \n",
        "                                                  random_state = seed)"
      ],
      "execution_count": null,
      "outputs": []
    },
    {
      "cell_type": "markdown",
      "metadata": {
        "id": "sn89skTepZJB"
      },
      "source": [
        "### 2.3.1. Defining and Training Model"
      ]
    },
    {
      "cell_type": "code",
      "metadata": {
        "colab": {
          "base_uri": "https://localhost:8080/"
        },
        "id": "1ExCOFYCXw9S",
        "outputId": "7fc9c3d0-dacb-4dbb-ccb5-f3bdf0765684"
      },
      "source": [
        "cnn = models.Sequential()\n",
        " \n",
        "cnn.add(layers.Conv2D(32, (3, 3), activation = \"relu\", input_shape = (28, 28, 1)))\n",
        "cnn.add(layers.MaxPooling2D((2, 2)))\n",
        " \n",
        " \n",
        "cnn.add(layers.Flatten())\n",
        "cnn.add(layers.Dropout(0.5))\n",
        " \n",
        "cnn.add(layers.Dense(64, activation = \"relu\"))\n",
        " \n",
        "cnn.add(layers.Dense(10, activation = \"softmax\"))\n",
        " \n",
        "cnn.compile(optimizer = 'adam',\n",
        "            loss = \"sparse_categorical_crossentropy\",\n",
        "            metrics = ['accuracy'])\n",
        " \n",
        "ti = time()\n",
        "cnn_mnist = cnn.fit(X_train,  \n",
        "                    y_train, \n",
        "                    validation_data = (X_val, y_val),\n",
        "                    batch_size = 64,\n",
        "                    epochs = 16)\n",
        "tf = time()\n",
        "cnn_tt = tf - ti"
      ],
      "execution_count": null,
      "outputs": [
        {
          "output_type": "stream",
          "text": [
            "Epoch 1/16\n",
            "844/844 [==============================] - 31s 6ms/step - loss: 0.2620 - accuracy: 0.9209 - val_loss: 0.0983 - val_accuracy: 0.9695\n",
            "Epoch 2/16\n",
            "844/844 [==============================] - 5s 5ms/step - loss: 0.1077 - accuracy: 0.9673 - val_loss: 0.0694 - val_accuracy: 0.9798\n",
            "Epoch 3/16\n",
            "844/844 [==============================] - 5s 5ms/step - loss: 0.0814 - accuracy: 0.9743 - val_loss: 0.0528 - val_accuracy: 0.9843\n",
            "Epoch 4/16\n",
            "844/844 [==============================] - 5s 6ms/step - loss: 0.0675 - accuracy: 0.9788 - val_loss: 0.0461 - val_accuracy: 0.9852\n",
            "Epoch 5/16\n",
            "844/844 [==============================] - 5s 5ms/step - loss: 0.0553 - accuracy: 0.9824 - val_loss: 0.0445 - val_accuracy: 0.9845\n",
            "Epoch 6/16\n",
            "844/844 [==============================] - 5s 5ms/step - loss: 0.0480 - accuracy: 0.9843 - val_loss: 0.0412 - val_accuracy: 0.9867\n",
            "Epoch 7/16\n",
            "844/844 [==============================] - 5s 5ms/step - loss: 0.0423 - accuracy: 0.9858 - val_loss: 0.0360 - val_accuracy: 0.9875\n",
            "Epoch 8/16\n",
            "844/844 [==============================] - 5s 5ms/step - loss: 0.0366 - accuracy: 0.9880 - val_loss: 0.0389 - val_accuracy: 0.9875\n",
            "Epoch 9/16\n",
            "844/844 [==============================] - 5s 5ms/step - loss: 0.0336 - accuracy: 0.9890 - val_loss: 0.0330 - val_accuracy: 0.9890\n",
            "Epoch 10/16\n",
            "844/844 [==============================] - 5s 5ms/step - loss: 0.0302 - accuracy: 0.9899 - val_loss: 0.0330 - val_accuracy: 0.9893\n",
            "Epoch 11/16\n",
            "844/844 [==============================] - 5s 5ms/step - loss: 0.0277 - accuracy: 0.9909 - val_loss: 0.0337 - val_accuracy: 0.9893\n",
            "Epoch 12/16\n",
            "844/844 [==============================] - 5s 5ms/step - loss: 0.0240 - accuracy: 0.9917 - val_loss: 0.0376 - val_accuracy: 0.9878\n",
            "Epoch 13/16\n",
            "844/844 [==============================] - 5s 5ms/step - loss: 0.0229 - accuracy: 0.9918 - val_loss: 0.0343 - val_accuracy: 0.9885\n",
            "Epoch 14/16\n",
            "844/844 [==============================] - 5s 5ms/step - loss: 0.0213 - accuracy: 0.9927 - val_loss: 0.0350 - val_accuracy: 0.9883\n",
            "Epoch 15/16\n",
            "844/844 [==============================] - 5s 5ms/step - loss: 0.0183 - accuracy: 0.9938 - val_loss: 0.0307 - val_accuracy: 0.9900\n",
            "Epoch 16/16\n",
            "844/844 [==============================] - 5s 5ms/step - loss: 0.0190 - accuracy: 0.9936 - val_loss: 0.0323 - val_accuracy: 0.9907\n"
          ],
          "name": "stdout"
        }
      ]
    },
    {
      "cell_type": "markdown",
      "metadata": {
        "id": "VKbcAucfqKq4"
      },
      "source": [
        "### 2.3.2. Evaluation"
      ]
    },
    {
      "cell_type": "markdown",
      "metadata": {
        "id": "eeShFvymrrxy"
      },
      "source": [
        "##### Loss Curves"
      ]
    },
    {
      "cell_type": "code",
      "metadata": {
        "colab": {
          "base_uri": "https://localhost:8080/",
          "height": 219
        },
        "id": "fwxf7Fapzzqy",
        "outputId": "82cbcbb4-2a57-425a-aac6-02dee3c14456"
      },
      "source": [
        "plt.figure(figsize = [7, 5]) \n",
        "plt.plot(cnn_mnist.history[\"loss\"], \"r\", linewidth = 2.1) \n",
        "plt.plot(cnn_mnist.history[\"val_loss\"], \"b\", linewidth = 2.1) \n",
        "plt.legend([\"Training Loss\", \"Validation Loss\"],fontsize = 12) \n",
        "plt.xlabel(\"Epoch\", fontsize = 10)\n",
        "plt.ylabel(\"Loss\", fontsize = 10) \n",
        "plt.title(\"Loss Curves\", fontsize = 15)\n",
        "plt.show()"
      ],
      "execution_count": null,
      "outputs": [
        {
          "output_type": "display_data",
          "data": {
            "image/png": "[encoded data removed]",
            "text/plain": [
              "<Figure size 504x360 with 1 Axes>"
            ]
          },
          "metadata": {
            "tags": [],
            "needs_background": "light"
          }
        }
      ]
    },
    {
      "cell_type": "markdown",
      "metadata": {
        "id": "2iww5GFVrv6F"
      },
      "source": [
        "##### Accuracy Curves"
      ]
    },
    {
      "cell_type": "code",
      "metadata": {
        "colab": {
          "base_uri": "https://localhost:8080/",
          "height": 219
        },
        "id": "UnrdBCTVz66O",
        "outputId": "712a2b3b-830a-423f-ac19-37b075b1f828"
      },
      "source": [
        "plt.figure(figsize = [7, 5]) \n",
        "plt.plot(cnn_mnist.history[\"accuracy\"], \"r\", linewidth = 2.1) \n",
        "plt.plot(cnn_mnist.history[\"val_accuracy\"], \"b\", linewidth = 2.1) \n",
        "plt.legend([\"Training Accuracy\", \"Validation Accuracy\"],fontsize = 12) \n",
        "plt.xlabel(\"Epoch\", fontsize = 10)\n",
        "plt.ylabel(\"Accuracy\", fontsize = 10) \n",
        "plt.title(\"Accuracy Curves\", fontsize = 15)\n",
        "plt.show()"
      ],
      "execution_count": null,
      "outputs": [
        {
          "output_type": "display_data",
          "data": {
            "image/png": "[encoded data removed]",
            "text/plain": [
              "<Figure size 504x360 with 1 Axes>"
            ]
          },
          "metadata": {
            "tags": [],
            "needs_background": "light"
          }
        }
      ]
    },
    {
      "cell_type": "markdown",
      "metadata": {
        "id": "WQMRoy0lse7b"
      },
      "source": [
        "##### Test Set Evaluation"
      ]
    },
    {
      "cell_type": "code",
      "metadata": {
        "colab": {
          "base_uri": "https://localhost:8080/"
        },
        "id": "u0dV8J4g9yJl",
        "outputId": "50214a45-549f-4916-84a1-9811ff5b903a"
      },
      "source": [
        "[cnn_loss, cnn_acc] = cnn.evaluate(X_test, y_test)\n",
        "print(\"\\nEvaluation result on Test Set:\\n\\n Loss = {0:.3f}\\n Accuracy = {1:.3f}\".format(cnn_loss, cnn_acc))\n",
        "\n",
        "print(\" Training Time: {0:.3f}s\".format(cnn_tt))"
      ],
      "execution_count": null,
      "outputs": [
        {
          "output_type": "stream",
          "text": [
            "313/313 [==============================] - 1s 3ms/step - loss: 0.0364 - accuracy: 0.9891\n",
            "\n",
            "Evaluation result on Test Set :\n",
            "\n",
            " Loss = 0.036\n",
            " Accuracy = 0.989\n",
            " Training Time: {0:.3f}s 142.38260173797607\n"
          ],
          "name": "stdout"
        }
      ]
    },
    {
      "cell_type": "markdown",
      "metadata": {
        "id": "UdDGt4FzezP5"
      },
      "source": [
        "## 2.4. Model Comparison"
      ]
    },
    {
      "cell_type": "code",
      "metadata": {
        "colab": {
          "base_uri": "https://localhost:8080/"
        },
        "id": "EEMizYBOe3JA",
        "outputId": "902130d2-3a03-4ddb-d76c-07125f9b70d3"
      },
      "source": [
        "if cnn_acc > mnn_acc:\n",
        "  print(\"The convolutial neural network has the best test accuracy\")\n",
        "  print(\"Test accuracy = {0:.3f}\".format(cnn_acc))\n",
        "  print(\"The convolutial neural network test accuracy is {0:.3f}% better than the multilayer neural network\".format(100*(cnn_acc-mnn_acc)/mnn_acc))\n",
        "else:\n",
        "  print(\"The multilayer neural network has the best test accuracy\")\n",
        "  print(\"Test Accuracy = {0:.3f}\".format(mnn_acc))\n",
        "  print(\"The multilayer neural network test accuracy is {0:.3f}% better than the convolutial neural network\".format(100*(mnn_acc-cnn_acc)/cnn_acc))\n",
        " \n",
        "print()\n",
        " \n",
        "if cnn_tt < mnn_tt:\n",
        "  print(\"The convolutial neural network has the best training time\")\n",
        "  print(\"Training time = {0:.3f}s\".format(cnn_tt))\n",
        "  print(\"The convolutial neural network training time is {0:.3f}% faster than the multilayer neural network\".format(100*(mnn_tt-cnn_tt)/cnn_tt))\n",
        "else:\n",
        "  print(\"The multilayer neural network has the best training time\")\n",
        "  print(\"Training time = {0:.3f}s\".format(mnn_tt))\n",
        "  print(\"The multilayer neural network training time is {0:.3f}% faster than the convolutial neural network\".format(100*(cnn_tt-mnn_tt)/mnn_tt))"
      ],
      "execution_count": null,
      "outputs": [
        {
          "output_type": "stream",
          "text": [
            "The convolutial neural network has the best test accuracy\n",
            "Test accuracy = 0.989\n",
            "The convolutial neural network test accuracy is 0.908% better than the multilayer neural network\n",
            "\n",
            "The multilayer neural network has the best test accuracy\n",
            "Training time = 82.472s\n",
            "The multilayer neural network training time is 72.643% faster than the convolutial neural network\n"
          ],
          "name": "stdout"
        }
      ]
    },
    {
      "cell_type": "markdown",
      "metadata": {
        "id": "RGlxOw_sVx8N"
      },
      "source": [
        "# 3. Fashion MNIST Dataset"
      ]
    },
    {
      "cell_type": "code",
      "metadata": {
        "id": "HP6hEGibVx8t"
      },
      "source": [
        "from tensorflow.keras.datasets import fashion_mnist"
      ],
      "execution_count": null,
      "outputs": []
    },
    {
      "cell_type": "markdown",
      "metadata": {
        "id": "GUolmALGVx8u"
      },
      "source": [
        "## 3.1. Data Preparation"
      ]
    },
    {
      "cell_type": "code",
      "metadata": {
        "id": "Y-8llp9mVx8u"
      },
      "source": [
        "(X_train_ori, y_train_ori), (X_test_ori, y_test_ori) = fashion_mnist.load_data()"
      ],
      "execution_count": null,
      "outputs": []
    },
    {
      "cell_type": "code",
      "metadata": {
        "id": "_DxSTAH2Vx8v"
      },
      "source": [
        "num_classes = max(len(np.unique(y_train_ori)),\n",
        "                  len(np.unique(y_test_ori)))"
      ],
      "execution_count": null,
      "outputs": []
    },
    {
      "cell_type": "code",
      "metadata": {
        "id": "Ra9mbW2cVx8w"
      },
      "source": [
        "X_train_ori = (X_train_ori/255.0).astype(\"float32\")\n",
        "y = y_train_ori\n",
        "X_test_ori = (X_test_ori/255.0).astype(\"float32\")\n",
        "y_test = y_test_ori"
      ],
      "execution_count": null,
      "outputs": []
    },
    {
      "cell_type": "markdown",
      "metadata": {
        "id": "i0fp-VDcVx8w"
      },
      "source": [
        "## 3.2. MultiLayer Neural Network"
      ]
    },
    {
      "cell_type": "code",
      "metadata": {
        "id": "ipu6ei3rVx8x"
      },
      "source": [
        "X = X_train_ori.reshape((60000,28*28))\n",
        "X_test = X_test_ori.reshape((10000,28*28))"
      ],
      "execution_count": null,
      "outputs": []
    },
    {
      "cell_type": "code",
      "metadata": {
        "id": "wOPAm0kmVx8x"
      },
      "source": [
        "X_train, X_val, y_train, y_val = train_test_split(X,  \n",
        "                                                  y,\n",
        "                                                  stratify = y,\n",
        "                                                  train_size = 0.9, \n",
        "                                                  random_state = seed)"
      ],
      "execution_count": null,
      "outputs": []
    },
    {
      "cell_type": "markdown",
      "metadata": {
        "id": "iWc3Fy8aVx8y"
      },
      "source": [
        "### 3.2.1. Defining and Training Model"
      ]
    },
    {
      "cell_type": "code",
      "metadata": {
        "colab": {
          "base_uri": "https://localhost:8080/"
        },
        "id": "OkOpvEReVx8y",
        "outputId": "4b81a2a5-9499-412f-88e0-5d630bb2b700"
      },
      "source": [
        "mnn = models.Sequential()\n",
        " \n",
        "mnn.add(layers.Dense(256, \n",
        "                     activation = \"relu\", \n",
        "                     input_shape = (28*28,)))\n",
        " \n",
        "mnn.add(layers.Dropout(0.25))\n",
        " \n",
        "mnn.add(layers.Dense(512,\n",
        "                     activation = \"relu\"))\n",
        " \n",
        "mnn.add(layers.Dropout(0.25))\n",
        " \n",
        "mnn.add(layers.Dense(512,\n",
        "                     activation = \"relu\"))\n",
        " \n",
        "mnn.add(layers.Dropout(0.25))\n",
        " \n",
        "mnn.add(layers.Dense(num_classes, \n",
        "                     activation = \"softmax\"))\n",
        "                    \n",
        "mnn.compile(optimizer = \"adam\",\n",
        "            loss = \"sparse_categorical_crossentropy\",   \n",
        "            metrics = ['accuracy'])\n",
        " \n",
        "ti = time()\n",
        "mnn_mnist = mnn.fit(X_train,\n",
        "                    y_train, \n",
        "                    validation_data = (X_val, y_val),\n",
        "                    epochs = 16,\n",
        "                    batch_size = 64,\n",
        "                    verbose = 1)\n",
        "tf = time()\n",
        "mnn_tt = tf - ti"
      ],
      "execution_count": null,
      "outputs": [
        {
          "output_type": "stream",
          "text": [
            "Epoch 1/16\n",
            "844/844 [==============================] - 4s 4ms/step - loss: 0.5573 - accuracy: 0.7971 - val_loss: 0.4397 - val_accuracy: 0.8250\n",
            "Epoch 2/16\n",
            "844/844 [==============================] - 4s 4ms/step - loss: 0.4244 - accuracy: 0.8458 - val_loss: 0.3559 - val_accuracy: 0.8700\n",
            "Epoch 3/16\n",
            "844/844 [==============================] - 3s 4ms/step - loss: 0.3915 - accuracy: 0.8587 - val_loss: 0.3501 - val_accuracy: 0.8710\n",
            "Epoch 4/16\n",
            "844/844 [==============================] - 3s 4ms/step - loss: 0.3718 - accuracy: 0.8630 - val_loss: 0.3376 - val_accuracy: 0.8822\n",
            "Epoch 5/16\n",
            "844/844 [==============================] - 3s 4ms/step - loss: 0.3570 - accuracy: 0.8704 - val_loss: 0.3217 - val_accuracy: 0.8833\n",
            "Epoch 6/16\n",
            "844/844 [==============================] - 3s 4ms/step - loss: 0.3417 - accuracy: 0.8735 - val_loss: 0.3299 - val_accuracy: 0.8755\n",
            "Epoch 7/16\n",
            "844/844 [==============================] - 3s 4ms/step - loss: 0.3339 - accuracy: 0.8773 - val_loss: 0.3084 - val_accuracy: 0.8845\n",
            "Epoch 8/16\n",
            "844/844 [==============================] - 3s 4ms/step - loss: 0.3239 - accuracy: 0.8802 - val_loss: 0.3145 - val_accuracy: 0.8830\n",
            "Epoch 9/16\n",
            "844/844 [==============================] - 3s 4ms/step - loss: 0.3147 - accuracy: 0.8840 - val_loss: 0.3224 - val_accuracy: 0.8812\n",
            "Epoch 10/16\n",
            "844/844 [==============================] - 4s 4ms/step - loss: 0.3088 - accuracy: 0.8862 - val_loss: 0.3025 - val_accuracy: 0.8903\n",
            "Epoch 11/16\n",
            "844/844 [==============================] - 3s 4ms/step - loss: 0.3014 - accuracy: 0.8892 - val_loss: 0.2916 - val_accuracy: 0.8942\n",
            "Epoch 12/16\n",
            "844/844 [==============================] - 3s 4ms/step - loss: 0.2961 - accuracy: 0.8913 - val_loss: 0.2992 - val_accuracy: 0.8905\n",
            "Epoch 13/16\n",
            "844/844 [==============================] - 4s 4ms/step - loss: 0.2944 - accuracy: 0.8902 - val_loss: 0.3063 - val_accuracy: 0.8862\n",
            "Epoch 14/16\n",
            "844/844 [==============================] - 3s 4ms/step - loss: 0.2902 - accuracy: 0.8922 - val_loss: 0.2884 - val_accuracy: 0.8920\n",
            "Epoch 15/16\n",
            "844/844 [==============================] - 4s 4ms/step - loss: 0.2843 - accuracy: 0.8948 - val_loss: 0.2893 - val_accuracy: 0.8910\n",
            "Epoch 16/16\n",
            "844/844 [==============================] - 3s 4ms/step - loss: 0.2784 - accuracy: 0.8951 - val_loss: 0.2968 - val_accuracy: 0.8943\n"
          ],
          "name": "stdout"
        }
      ]
    },
    {
      "cell_type": "markdown",
      "metadata": {
        "id": "poBAecLRVx80"
      },
      "source": [
        "### 3.2.2. Evaluation"
      ]
    },
    {
      "cell_type": "markdown",
      "metadata": {
        "id": "UOTkZl7dVx80"
      },
      "source": [
        "##### Loss Curves"
      ]
    },
    {
      "cell_type": "code",
      "metadata": {
        "colab": {
          "base_uri": "https://localhost:8080/",
          "height": 223
        },
        "id": "F4fjLFsuVx80",
        "outputId": "21815e93-4547-44e0-bf18-f7401f2c136f"
      },
      "source": [
        "plt.figure(figsize = [7, 5]) \n",
        "plt.plot(mnn_mnist.history[\"loss\"], \"r\", linewidth = 2.1) \n",
        "plt.plot(mnn_mnist.history[\"val_loss\"], \"b\", linewidth = 2.1) \n",
        "plt.legend([\"Training Loss\", \"Validation Loss\"],fontsize = 12) \n",
        "plt.xlabel(\"Epoch\", fontsize = 10)\n",
        "plt.ylabel(\"Loss\", fontsize = 10) \n",
        "plt.title(\"Loss Curves\", fontsize = 15)\n",
        "plt.show()"
      ],
      "execution_count": null,
      "outputs": [
        {
          "output_type": "display_data",
          "data": {
            "image/png": "[encoded data removed]",
            "text/plain": [
              "<Figure size 504x360 with 1 Axes>"
            ]
          },
          "metadata": {
            "tags": [],
            "needs_background": "light"
          }
        }
      ]
    },
    {
      "cell_type": "markdown",
      "metadata": {
        "id": "QGiMvUGRVx81"
      },
      "source": [
        "##### Accuracy Curves"
      ]
    },
    {
      "cell_type": "code",
      "metadata": {
        "colab": {
          "base_uri": "https://localhost:8080/"
        },
        "id": "QgqBbaMeVx81",
        "outputId": "03590266-4f0a-4a96-a871-d136dc1916e9"
      },
      "source": [
        "plt.figure(figsize = [7, 5]) \n",
        "plt.plot(mnn_mnist.history[\"accuracy\"], \"r\", linewidth = 2.1) \n",
        "plt.plot(mnn_mnist.history[\"val_accuracy\"], \"b\", linewidth = 2.1) \n",
        "plt.legend([\"Training Accuracy\", \"Validation Accuracy\"],fontsize = 12) \n",
        "plt.xlabel(\"Epoch\", fontsize = 10)\n",
        "plt.ylabel(\"Accuracy\", fontsize = 10) \n",
        "plt.title(\"Accuracy Curves\", fontsize = 15)\n",
        "plt.show()"
      ],
      "execution_count": null,
      "outputs": [
        {
          "output_type": "display_data",
          "data": {
            "image/png": "[encoded data removed]",
            "text/plain": [
              "<Figure size 504x360 with 1 Axes>"
            ]
          },
          "metadata": {
            "tags": [],
            "needs_background": "light"
          }
        }
      ]
    },
    {
      "cell_type": "markdown",
      "metadata": {
        "id": "UYQNP5uuVx82"
      },
      "source": [
        "##### Test Set Evaluation"
      ]
    },
    {
      "cell_type": "code",
      "metadata": {
        "colab": {
          "base_uri": "https://localhost:8080/"
        },
        "id": "8dL8W-jMVx82",
        "outputId": "8c348fea-ebf5-4d9e-8c25-c78ba9430aad"
      },
      "source": [
        "[mnn_loss, mnn_acc] = mnn.evaluate(X_test, y_test)\n",
        "print(\"\\nEvaluation result on Test Set :\\n\\n Loss = {0:.3f}\\n Accuracy = {1:.3f}\".format(mnn_loss, mnn_acc))\n",
        "\n",
        "print(\" Training Time: {0:.3f}s\".format(mnn_tt))"
      ],
      "execution_count": null,
      "outputs": [
        {
          "output_type": "stream",
          "text": [
            "313/313 [==============================] - 1s 3ms/step - loss: 0.3623 - accuracy: 0.8700\n",
            "\n",
            "Evaluation result on Test Set :\n",
            "\n",
            " Loss = 0.362\n",
            " Accuracy = 0.870\n",
            " Training Time: {0:.3f}s 51.86091470718384\n"
          ],
          "name": "stdout"
        }
      ]
    },
    {
      "cell_type": "markdown",
      "metadata": {
        "id": "wz0Y2eCFVx83"
      },
      "source": [
        "## 3.3. Convolutional Neural Network"
      ]
    },
    {
      "cell_type": "code",
      "metadata": {
        "id": "_ycFk5I_Vx83"
      },
      "source": [
        "X = X_train_ori.reshape((60000, 28, 28, 1))\n",
        "X_test = X_test_ori.reshape((10000, 28, 28, 1))"
      ],
      "execution_count": null,
      "outputs": []
    },
    {
      "cell_type": "code",
      "metadata": {
        "id": "wW5sB94xVx83"
      },
      "source": [
        "X_train, X_val, y_train, y_val = train_test_split(X,  \n",
        "                                                  y, \n",
        "                                                  stratify = y,\n",
        "                                                  train_size = 0.7, \n",
        "                                                  random_state = seed)"
      ],
      "execution_count": null,
      "outputs": []
    },
    {
      "cell_type": "markdown",
      "metadata": {
        "id": "i42ElT9Ds138"
      },
      "source": [
        "### 3.2.1. Defining and Training Model"
      ]
    },
    {
      "cell_type": "code",
      "metadata": {
        "id": "zBGGWqqEVx83",
        "colab": {
          "base_uri": "https://localhost:8080/"
        },
        "outputId": "2e7dd373-6ba4-4d17-b2cc-0eb9c16c2292"
      },
      "source": [
        "cnn = models.Sequential()\n",
        "\n",
        "cnn.add(layers.Conv2D(32, (3, 3), activation = \"relu\", input_shape = (28, 28, 1)))\n",
        "cnn.add(layers.MaxPooling2D((2, 2)))\n",
        " \n",
        " \n",
        "cnn.add(layers.Flatten())\n",
        "cnn.add(layers.Dropout(0.5))\n",
        " \n",
        "cnn.add(layers.Dense(64, activation = \"relu\"))\n",
        "\n",
        "cnn.add(layers.Dense(10, activation = \"softmax\"))\n",
        " \n",
        "cnn.compile(optimizer = 'adam',\n",
        "            loss = \"sparse_categorical_crossentropy\",\n",
        "            metrics = ['accuracy'])\n",
        " \n",
        "ti = time()\n",
        "cnn_mnist = cnn.fit(X_train,  \n",
        "                    y_train, \n",
        "                    validation_data = (X_val, y_val),\n",
        "                    batch_size = 64,\n",
        "                    epochs = 16)\n",
        "tf = time()\n",
        "cnn_tt = tf - ti"
      ],
      "execution_count": null,
      "outputs": [
        {
          "output_type": "stream",
          "text": [
            "Epoch 1/16\n",
            "657/657 [==============================] - 5s 7ms/step - loss: 0.5080 - accuracy: 0.8198 - val_loss: 0.3728 - val_accuracy: 0.8703\n",
            "Epoch 2/16\n",
            "657/657 [==============================] - 4s 6ms/step - loss: 0.3593 - accuracy: 0.8713 - val_loss: 0.3412 - val_accuracy: 0.8778\n",
            "Epoch 3/16\n",
            "657/657 [==============================] - 4s 6ms/step - loss: 0.3193 - accuracy: 0.8840 - val_loss: 0.3115 - val_accuracy: 0.8922\n",
            "Epoch 4/16\n",
            "657/657 [==============================] - 5s 7ms/step - loss: 0.2935 - accuracy: 0.8946 - val_loss: 0.2894 - val_accuracy: 0.8972\n",
            "Epoch 5/16\n",
            "657/657 [==============================] - 4s 6ms/step - loss: 0.2698 - accuracy: 0.9015 - val_loss: 0.2751 - val_accuracy: 0.9010\n",
            "Epoch 6/16\n",
            "657/657 [==============================] - 5s 7ms/step - loss: 0.2556 - accuracy: 0.9063 - val_loss: 0.2704 - val_accuracy: 0.9028\n",
            "Epoch 7/16\n",
            "657/657 [==============================] - 5s 7ms/step - loss: 0.2375 - accuracy: 0.9109 - val_loss: 0.2633 - val_accuracy: 0.9071\n",
            "Epoch 8/16\n",
            "657/657 [==============================] - 4s 6ms/step - loss: 0.2258 - accuracy: 0.9168 - val_loss: 0.2713 - val_accuracy: 0.9046\n",
            "Epoch 9/16\n",
            "657/657 [==============================] - 4s 6ms/step - loss: 0.2142 - accuracy: 0.9198 - val_loss: 0.2567 - val_accuracy: 0.9092\n",
            "Epoch 10/16\n",
            "657/657 [==============================] - 5s 7ms/step - loss: 0.2031 - accuracy: 0.9240 - val_loss: 0.2527 - val_accuracy: 0.9120\n",
            "Epoch 11/16\n",
            "657/657 [==============================] - 5s 7ms/step - loss: 0.1954 - accuracy: 0.9277 - val_loss: 0.2524 - val_accuracy: 0.9112\n",
            "Epoch 12/16\n",
            "657/657 [==============================] - 5s 7ms/step - loss: 0.1865 - accuracy: 0.9297 - val_loss: 0.2459 - val_accuracy: 0.9139\n",
            "Epoch 13/16\n",
            "657/657 [==============================] - 5s 7ms/step - loss: 0.1796 - accuracy: 0.9325 - val_loss: 0.2511 - val_accuracy: 0.9138\n",
            "Epoch 14/16\n",
            "657/657 [==============================] - 5s 7ms/step - loss: 0.1681 - accuracy: 0.9367 - val_loss: 0.2441 - val_accuracy: 0.9169\n",
            "Epoch 15/16\n",
            "657/657 [==============================] - 5s 7ms/step - loss: 0.1649 - accuracy: 0.9385 - val_loss: 0.2480 - val_accuracy: 0.9170\n",
            "Epoch 16/16\n",
            "657/657 [==============================] - 4s 6ms/step - loss: 0.1589 - accuracy: 0.9400 - val_loss: 0.2462 - val_accuracy: 0.9168\n"
          ],
          "name": "stdout"
        }
      ]
    },
    {
      "cell_type": "markdown",
      "metadata": {
        "id": "v5fFmSVDs9fc"
      },
      "source": [
        "### 3.2.2 Evaluation"
      ]
    },
    {
      "cell_type": "markdown",
      "metadata": {
        "id": "v2Z249ivtAvF"
      },
      "source": [
        "##### Loss Curves"
      ]
    },
    {
      "cell_type": "code",
      "metadata": {
        "id": "K7cikiAvVx84",
        "colab": {
          "base_uri": "https://localhost:8080/",
          "height": 219
        },
        "outputId": "63b80ae6-6d55-4524-d3f2-d1db881477e2"
      },
      "source": [
        "plt.figure(figsize = [7, 5]) \n",
        "plt.plot(cnn_mnist.history[\"loss\"], \"r\", linewidth = 2.1) \n",
        "plt.plot(cnn_mnist.history[\"val_loss\"], \"b\", linewidth = 2.1) \n",
        "plt.legend([\"Training Loss\", \"Validation Loss\"],fontsize = 12) \n",
        "plt.xlabel(\"Epoch\", fontsize = 10)\n",
        "plt.ylabel(\"Loss\", fontsize = 10) \n",
        "plt.title(\"Loss Curves\", fontsize = 15)\n",
        "plt.show()"
      ],
      "execution_count": null,
      "outputs": [
        {
          "output_type": "display_data",
          "data": {
            "image/png": "[encoded data removed]",
            "text/plain": [
              "<Figure size 504x360 with 1 Axes>"
            ]
          },
          "metadata": {
            "tags": [],
            "needs_background": "light"
          }
        }
      ]
    },
    {
      "cell_type": "markdown",
      "metadata": {
        "id": "xrFLJQs5tDxi"
      },
      "source": [
        "##### Accuracy Curves"
      ]
    },
    {
      "cell_type": "code",
      "metadata": {
        "id": "t22dyrBtVx84",
        "colab": {
          "base_uri": "https://localhost:8080/",
          "height": 219
        },
        "outputId": "c2b2ec87-aa1e-4f46-ab01-49c29571b431"
      },
      "source": [
        "plt.figure(figsize = [7, 5]) \n",
        "plt.plot(cnn_mnist.history[\"accuracy\"], \"r\", linewidth = 2.1) \n",
        "plt.plot(cnn_mnist.history[\"val_accuracy\"], \"b\", linewidth = 2.1) \n",
        "plt.legend([\"Training Accuracy\", \"Validation Accuracy\"],fontsize = 12) \n",
        "plt.xlabel(\"Epoch\", fontsize = 10)\n",
        "plt.ylabel(\"Accuracy\", fontsize = 10) \n",
        "plt.title(\"Accuracy Curves\", fontsize = 15)\n",
        "plt.show()"
      ],
      "execution_count": null,
      "outputs": [
        {
          "output_type": "display_data",
          "data": {
            "image/png": "[encoded data removed]",
            "text/plain": [
              "<Figure size 504x360 with 1 Axes>"
            ]
          },
          "metadata": {
            "tags": [],
            "needs_background": "light"
          }
        }
      ]
    },
    {
      "cell_type": "markdown",
      "metadata": {
        "id": "ri1rQ-OwtH0d"
      },
      "source": [
        "##### Test Set Evaluation"
      ]
    },
    {
      "cell_type": "code",
      "metadata": {
        "id": "wOGej_kTVx84",
        "colab": {
          "base_uri": "https://localhost:8080/"
        },
        "outputId": "938276d7-9c24-4295-80e2-5f5602e31b51"
      },
      "source": [
        "[cnn_loss, cnn_acc] = cnn.evaluate(X_test, y_test)\n",
        "print(\"\\nEvaluation result on Test Set :\\n\\n Loss = {0:.3f}\\n Accuracy = {1:.3f}\".format(cnn_loss, cnn_acc))\n",
        " \n",
        "print(\" Training Time: {0:.3f}s\".format(cnn_tt))"
      ],
      "execution_count": null,
      "outputs": [
        {
          "output_type": "stream",
          "text": [
            "313/313 [==============================] - 1s 3ms/step - loss: 0.2593 - accuracy: 0.9112\n",
            "\n",
            "Evaluation result on Test Set :\n",
            "\n",
            " Loss = 0.259\n",
            " Accuracy = 0.911\n",
            " Training Time: 71.960s\n"
          ],
          "name": "stdout"
        }
      ]
    },
    {
      "cell_type": "markdown",
      "metadata": {
        "id": "FPNj5BnGVx85"
      },
      "source": [
        "## 3.4. Model Comparison"
      ]
    },
    {
      "cell_type": "code",
      "metadata": {
        "id": "2CgmkSRRVx85",
        "colab": {
          "base_uri": "https://localhost:8080/"
        },
        "outputId": "14713721-645f-4903-a435-6c9b7a6f9eeb"
      },
      "source": [
        "if cnn_acc > mnn_acc:\n",
        "  print(\"The convolutial neural network has the best test accuracy\")\n",
        "  print(\"Test accuracy = {0:.3f}\".format(cnn_acc))\n",
        "  print(\"The convolutial neural network test accuracy is {0:.3f}% better than the multilayer neural network\".format(100*(cnn_acc-mnn_acc)/mnn_acc))\n",
        "else:\n",
        "  print(\"The multilayer neural network has the best test accuracy\")\n",
        "  print(\"Test Accuracy = {0:.3f}\".format(mnn_acc))\n",
        "  print(\"The multilayer neural network test accuracy is {0:.3f}% better than the convolutial neural network\".format(100*(mnn_acc-cnn_acc)/cnn_acc))\n",
        "\n",
        "print()\n",
        "\n",
        "if cnn_tt < mnn_tt:\n",
        "  print(\"The convolutial neural network has the best training time\")\n",
        "  print(\"Training time = {0:.3f}s\".format(cnn_tt))\n",
        "  print(\"The convolutial neural network training time is {0:.3f}% faster than the multilayer neural network\".format(100*(mnn_tt-cnn_tt)/cnn_tt))\n",
        "else:\n",
        "  print(\"The multilayer neural network has the best training time\")\n",
        "  print(\"Training time = {0:.3f}s\".format(mnn_tt))\n",
        "  print(\"The multilayer neural network training time is {0:.3f}% faster than the convolutial neural network\".format(100*(cnn_tt-mnn_tt)/mnn_tt))"
      ],
      "execution_count": null,
      "outputs": [
        {
          "output_type": "stream",
          "text": [
            "The convolutial neural network has the best test accuracy\n",
            "Test accuracy = 0.911\n",
            "The convolutial neural network test accuracy is 4.736% better than the multilayer neural network\n",
            "\n",
            "The multilayer neural network has the best test accuracy\n",
            "Training time = 51.861s\n",
            "The multilayer neural network training time is 38.756% faster than the convolutial neural network\n"
          ],
          "name": "stdout"
        }
      ]
    },
    {
      "cell_type": "markdown",
      "metadata": {
        "id": "mgIh0_ueKvDB"
      },
      "source": [
        "# 5. Conclusion\n",
        "\n",
        "We can notice that for both datasets the convolutional networks have a little better accuracy than the multilayer network, however their training time is much longer.\n"
      ]
    }
  ]
}
