{
  "nbformat": 4,
  "nbformat_minor": 0,
  "metadata": {
    "kernelspec": {
      "display_name": "Python 3",
      "language": "python",
      "name": "python3"
    },
    "language_info": {
      "codemirror_mode": {
        "name": "ipython",
        "version": 3
      },
      "file_extension": ".py",
      "mimetype": "text/x-python",
      "name": "python",
      "nbconvert_exporter": "python",
      "pygments_lexer": "ipython3",
      "version": "3.6.9"
    },
    "colab": {
      "name": "ep02_linreg_analytic.ipynb",
      "provenance": [],
      "include_colab_link": true
    }
  },
  "cells": [
    {
      "cell_type": "markdown",
      "metadata": {
        "id": "view-in-github",
        "colab_type": "text"
      },
      "source": [
        "<a href=\"https://colab.research.google.com/github/victorsenoguchi/MAC0460/blob/main/ep02_linreg_analytic.ipynb\" target=\"_parent\"><img src=\"https://colab.research.google.com/assets/colab-badge.svg\" alt=\"Open In Colab\"/></a>"
      ]
    },
    {
      "cell_type": "code",
      "metadata": {
        "colab": {
          "base_uri": "https://localhost:8080/"
        },
        "id": "L-bHsy2B-bsn",
        "outputId": "72d73ae6-c004-44cc-87b9-500a8f4303f7"
      },
      "source": [
        "name = \"Victor Senoguchi Borges\"  # write YOUR NAME\n",
        " \n",
        "honorPledge = \"I affirm that I have not given or received any unauthorized \" \\\n",
        "              \"help on this assignment, and that this work is my own.\\n\"\n",
        " \n",
        " \n",
        "print(\"\\nName: \", name)\n",
        "print(\"\\nHonor pledge: \", honorPledge)"
      ],
      "execution_count": null,
      "outputs": [
        {
          "output_type": "stream",
          "text": [
            "\n",
            "Name:  Victor Senoguchi Borges\n",
            "\n",
            "Honor pledge:  I affirm that I have not given or received any unauthorized help on this assignment, and that this work is my own.\n",
            "\n"
          ],
          "name": "stdout"
        }
      ]
    },
    {
      "cell_type": "markdown",
      "metadata": {
        "id": "xSo3q736-btU"
      },
      "source": [
        "# MAC0460 / MAC5832 (2021)\n",
        "<hr>\n",
        "\n",
        "# EP2: Linear regression - analytic solution\n",
        "\n",
        "### Objectives:\n",
        "\n",
        "- to implement and test the analytic solution for the linear regression task (see, for instance, <a href=\"http://work.caltech.edu/slides/slides03.pdf\">Slides of Lecture 03</a> and Lecture 03 of *Learning from Data*)\n",
        "- to understand the core idea (*optimization of a loss or cost function*) for parameter adjustment in machine learning\n",
        "<hr>"
      ]
    },
    {
      "cell_type": "markdown",
      "metadata": {
        "id": "nV2Rsdum-bta"
      },
      "source": [
        "# Linear regression\n",
        "\n",
        "Given a dataset $\\{(\\mathbf{x}^{(1)}, y^{(1)}), \\dots ,(\\mathbf{x}^{(N)}, y^{(N)})\\}$ with $\\mathbf{x}^{(i)} \\in \\mathbb{R}^{d}$ and $y^{(i)} \\in \\mathbb{R}$, we would like to approximate the unknown function $f:\\mathbb{R}^{d} \\rightarrow \\mathbb{R}$ (recall that $y^{(i)} =f(\\mathbf{x}^{(i)})$) by means of a linear model $h$:\n",
        "$$\n",
        "h(\\mathbf{x}^{(i)}; \\mathbf{w}, b) = \\mathbf{w}^\\top  \\mathbf{x}^{(i)} + b\n",
        "$$\n",
        "\n",
        "Note that $h(\\mathbf{x}^{(i)}; \\mathbf{w}, b)$ is, in fact, an  [affine transformation](https://en.wikipedia.org/wiki/Affine_transformation) of  $\\mathbf{x}^{(i)}$. As commonly done, we will use the term \"linear\" to refer to an affine transformation.\n",
        "\n",
        "The output of $h$ is a linear transformation of $\\mathbf{x}^{(i)}$. We use the notation $h(\\mathbf{x}^{(i)}; \\mathbf{w}, b)$ to make clear that $h$ is a parametric model, i.e., the transformation $h$ is defined  by the parameters $\\mathbf{w}$ and $b$. We can view vector $\\mathbf{w}$ as a *weight* vector that controls the effect of each *feature* in the prediction.\n",
        "\n",
        "By adding one component with value equal to 1 to the observations $\\mathbf{x}$ (an artificial coordinate), we have:\n",
        "\n",
        "$$\\tilde{\\mathbf{x}} = (1, x_1, \\ldots, x_d) \\in \\mathbb{R}^{1+d}$$\n",
        "\n",
        "and then we can simplify the notation:\n",
        "$$\n",
        "h(\\mathbf{x}^{(i)}; \\mathbf{w}) = \\hat{y}^{(i)} = \\mathbf{w}^\\top  \\tilde{\\mathbf{x}}^{(i)}\n",
        "$$\n",
        "\n",
        "We would like to determine the optimal parameters $\\mathbf{w}$ such that prediction $\\hat{y}^{(i)}$ is as closest as possible to $y^{(i)}$ according to some error metric. Adopting the *mean square error* as such metric we have the following cost function:\n",
        "\n",
        "\\begin{equation}\n",
        "J(\\mathbf{w}) = \\frac{1}{N}\\sum_{i=1}^{N}\\big(\\hat{y}^{(i)} - y^{(i)}\\big)^{2}\n",
        "\\end{equation}\n",
        "\n",
        "Thus, the task of determining a function $h$ that is closest to $f$ is reduced to the task of finding the values $\\mathbf{w}$ that minimize $J(\\mathbf{w})$.\n",
        "\n",
        "**Now we will explore this model, starting with a simple dataset.**\n"
      ]
    },
    {
      "cell_type": "markdown",
      "metadata": {
        "id": "68YunVgL-bth"
      },
      "source": [
        "### Auxiliary functions"
      ]
    },
    {
      "cell_type": "code",
      "metadata": {
        "id": "Y9FPDxCJ-btj"
      },
      "source": [
        "# some imports\n",
        "import numpy as np\n",
        "import time\n",
        "import matplotlib.pyplot as plt\n",
        " \n",
        "%matplotlib inline"
      ],
      "execution_count": null,
      "outputs": []
    },
    {
      "cell_type": "code",
      "metadata": {
        "id": "SnWD0iAi-btm"
      },
      "source": [
        "# An auxiliary function\n",
        "def get_housing_prices_data(N, verbose=True):\n",
        "    \"\"\"\n",
        "    Generates artificial linear data,\n",
        "    where x = square meter, y = house price\n",
        " \n",
        "    :param N: data set size\n",
        "    :type N: int\n",
        "    \n",
        "    :param verbose: param to control print\n",
        "    :type verbose: bool\n",
        "    :return: design matrix, regression targets\n",
        "    :rtype: np.array, np.array\n",
        "    \"\"\"\n",
        "    cond = False\n",
        "    while not cond:\n",
        "        x = np.linspace(90, 1200, N)\n",
        "        gamma = np.random.normal(30, 10, x.size)\n",
        "        y = 50 * x + gamma * 400\n",
        "        x = x.astype(\"float32\")\n",
        "        x = x.reshape((x.shape[0], 1))\n",
        "        y = y.astype(\"float32\")\n",
        "        y = y.reshape((y.shape[0], 1))\n",
        "        cond = min(y) > 0\n",
        "        \n",
        "    xmean, xsdt, xmax, xmin = np.mean(x), np.std(x), np.max(x), np.min(x)\n",
        "    ymean, ysdt, ymax, ymin = np.mean(y), np.std(y), np.max(y), np.min(y)\n",
        "    if verbose:\n",
        "        print(\"\\nX shape = {}\".format(x.shape))\n",
        "        print(\"y shape = {}\\n\".format(y.shape))\n",
        "        print(\"X: mean {}, sdt {:.2f}, max {:.2f}, min {:.2f}\".format(xmean,\n",
        "                                                               xsdt,\n",
        "                                                               xmax,\n",
        "                                                               xmin))\n",
        "        print(\"y: mean {:.2f}, sdt {:.2f}, max {:.2f}, min {:.2f}\".format(ymean,\n",
        "                                                                 ysdt,\n",
        "                                                                 ymax,\n",
        "                                                                 ymin))\n",
        "    return x, y"
      ],
      "execution_count": null,
      "outputs": []
    },
    {
      "cell_type": "code",
      "metadata": {
        "id": "vwX4h_cC-bts"
      },
      "source": [
        "# Another auxiliary function\n",
        "def plot_points_regression(x,\n",
        "                           y,\n",
        "                           title,\n",
        "                           xlabel,\n",
        "                           ylabel,\n",
        "                           prediction=None,\n",
        "                           legend=False,\n",
        "                           r_squared=None,\n",
        "                           position=(90, 100)):\n",
        "    \"\"\"\n",
        "    Plots the data points and the prediction,\n",
        "    if there is one.\n",
        " \n",
        "    :param x: design matrix\n",
        "    :type x: np.array\n",
        "    :param y: regression targets\n",
        "    :type y: np.array\n",
        "    :param title: plot's title\n",
        "    :type title: str\n",
        "    :param xlabel: x axis label\n",
        "    :type xlabel: str\n",
        "    :param ylabel: y axis label\n",
        "    :type ylabel: str\n",
        "    :param prediction: model's prediction\n",
        "    :type prediction: np.array\n",
        "    :param legend: param to control print legends\n",
        "    :type legend: bool\n",
        "    :param r_squared: r^2 value\n",
        "    :type r_squared: float\n",
        "    :param position: text position\n",
        "    :type position: tuple\n",
        "    \"\"\"\n",
        "    fig, ax = plt.subplots(1, 1, figsize=(8, 8))\n",
        "    line1, = ax.plot(x, y, 'bo', label='Real data')\n",
        "    if prediction is not None:\n",
        "        line2, = ax.plot(x, prediction, 'r', label='Predicted data')\n",
        "        if legend:\n",
        "            plt.legend(handles=[line1, line2], loc=2)\n",
        "        ax.set_title(title,\n",
        "                 fontsize=20,\n",
        "                 fontweight='bold')\n",
        "    if r_squared is not None:\n",
        "        bbox_props = dict(boxstyle=\"square,pad=0.3\",\n",
        "                          fc=\"white\", ec=\"black\", lw=0.2)\n",
        "        t = ax.text(position[0], position[1], \"$R^2 ={:.4f}$\".format(r_squared),\n",
        "                    size=15, bbox=bbox_props)\n",
        " \n",
        "    ax.set_xlabel(xlabel, fontsize=20)\n",
        "    ax.set_ylabel(ylabel, fontsize=20)\n",
        "    plt.show()"
      ],
      "execution_count": null,
      "outputs": []
    },
    {
      "cell_type": "markdown",
      "metadata": {
        "id": "mQXjIS-E-btz"
      },
      "source": [
        "### The dataset \n",
        "\n",
        "The first dataset we will use is a toy dataset. We will generate $N=100$ observations with only one *feature* and a real value associated to each of them. We can view these observations as being pairs *(area of a real state in square meters, price of the real state)*. Our task is to construct a model that is able to predict the price of a real state, given its area."
      ]
    },
    {
      "cell_type": "code",
      "metadata": {
        "colab": {
          "base_uri": "https://localhost:8080/"
        },
        "id": "MVJZaxo9-bt3",
        "outputId": "a04426b9-265e-4e27-a3c2-2c7f6586d979"
      },
      "source": [
        "X, y = get_housing_prices_data(N=100)"
      ],
      "execution_count": null,
      "outputs": [
        {
          "output_type": "stream",
          "text": [
            "\n",
            "X shape = (100, 1)\n",
            "y shape = (100, 1)\n",
            "\n",
            "X: mean 645.0, sdt 323.65, max 1200.00, min 90.00\n",
            "y: mean 44314.59, sdt 16725.42, max 75657.20, min 12631.70\n"
          ],
          "name": "stdout"
        }
      ]
    },
    {
      "cell_type": "markdown",
      "metadata": {
        "id": "P0m44mTu-bt5"
      },
      "source": [
        "### Ploting the data"
      ]
    },
    {
      "cell_type": "code",
      "metadata": {
        "colab": {
          "base_uri": "https://localhost:8080/",
          "height": 271
        },
        "id": "IKk4aE4l-bt7",
        "outputId": "a95a9ddb-c925-4a6b-9234-aeda974952df"
      },
      "source": [
        "plot_points_regression(X,\n",
        "                       y,\n",
        "                       title='Real estate prices prediction',\n",
        "                       xlabel=\"m\\u00b2\",\n",
        "                       ylabel='$')"
      ],
      "execution_count": null,
      "outputs": [
        {
          "output_type": "display_data",
          "data": {
            "image/png": "[encoded data removed]",
            "text/plain": [
              "<Figure size 576x576 with 1 Axes>"
            ]
          },
          "metadata": {
            "tags": [],
            "needs_background": "light"
          }
        }
      ]
    },
    {
      "cell_type": "markdown",
      "metadata": {
        "id": "-58BWLnj-bt8"
      },
      "source": [
        "### The solution\n",
        "\n",
        "Given $f:\\mathbb{R}^{N\\times M} \\rightarrow \\mathbb{R}$ and $\\mathbf{A} \\in \\mathbb{R}^{N\\times M}$, we define the gradient of $f$ with respect to $\\mathbf{A}$ as:\n",
        "\n",
        "\\begin{equation*}\n",
        "\\nabla_{\\mathbf{A}}f = \\frac{\\partial f}{\\partial \\mathbf{A}} =  \\begin{bmatrix}\n",
        "\\frac{\\partial f}{\\partial \\mathbf{A}_{1,1}} & \\dots & \\frac{\\partial f}{\\partial \\mathbf{A}_{1,m}} \\\\\n",
        "\\vdots &  \\ddots & \\vdots \\\\\n",
        "\\frac{\\partial f}{\\partial \\mathbf{A}_{n,1}} &  \\dots & \\frac{\\partial f}{\\partial \\mathbf{A}_{n,m}}\n",
        "\\end{bmatrix}\n",
        "\\end{equation*}\n",
        "\n",
        "Let $\\mathbf{X} \\in \\mathbb{R}^{N\\times d}$ be a matrix (sometimes also called the *design matrix*) whose rows are the observations of the dataset and let $\\mathbf{y} \\in \\mathbb{R}^{N}$ be the vector consisting of all values $y^{(i)}$ (i.e., $\\mathbf{X}^{(i,:)} = \\mathbf{x}^{(i)}$ and $\\mathbf{y}^{(i)} = y^{(i)}$). It can be verified that: \n",
        "\n",
        "\\begin{equation}\n",
        "J(\\mathbf{w}) = \\frac{1}{N}(\\mathbf{X}\\mathbf{w} - \\mathbf{y})^{T}(\\mathbf{X}\\mathbf{w} - \\mathbf{y})\n",
        "\\end{equation}\n",
        "\n",
        "Using basic matrix derivative concepts we can compute the gradient of $J(\\mathbf{w})$ with respect to $\\mathbf{w}$:\n",
        "\n",
        "\\begin{equation}\n",
        "\\nabla_{\\mathbf{w}}J(\\mathbf{w}) = \\frac{2}{N} (\\mathbf{X}^{T}\\mathbf{X}\\mathbf{w} -\\mathbf{X}^{T}\\mathbf{y})   \n",
        "\\end{equation}\n",
        "\n",
        "Thus, when $\\nabla_{\\mathbf{w}}J(\\mathbf{w}) = 0$ we have \n",
        "\n",
        "\\begin{equation}\n",
        "\\mathbf{X}^{T}\\mathbf{X}\\mathbf{w} = \\mathbf{X}^{T}\\mathbf{y}\n",
        "\\end{equation}\n",
        "\n",
        "Hence,\n",
        "\n",
        "\\begin{equation}\n",
        "\\mathbf{w} = (\\mathbf{X}^{T}\\mathbf{X})^{-1}\\mathbf{X}^{T}\\mathbf{y}\n",
        "\\end{equation}\n",
        "\n",
        "Note that this solution has a high computational cost. As the number of variables (*features*) increases, the cost for matrix inversion becomes prohibitive. See  [this text](https://sgfin.github.io/files/notes/CS229_Lecture_Notes.pdf) for more details."
      ]
    },
    {
      "cell_type": "markdown",
      "metadata": {
        "id": "D2bUdb0i-buA"
      },
      "source": [
        "# <mark>Exercise 1</mark>\n",
        "Using only **NumPy** (a quick introduction to this library can be found  [here](http://cs231n.github.io/python-numpy-tutorial/)), complete the two functions below. Recall that $\\mathbf{X} \\in \\mathbb{R}^{N\\times d}$; thus you will need to add a component of value 1 to each of  the observations in $\\mathbf{X}$ before performing the computation described above.\n",
        "\n",
        "NOTE: Although the dataset above has data of dimension $d=1$, your code must be generic (it should work for $d\\geq1$)"
      ]
    },
    {
      "cell_type": "markdown",
      "metadata": {
        "id": "iHZER6oE-buC"
      },
      "source": [
        "## <mark>1.1. Weight computation function</mark>"
      ]
    },
    {
      "cell_type": "code",
      "metadata": {
        "id": "whpb675W-buF"
      },
      "source": [
        "def normal_equation_weights(X, y):\n",
        "    \"\"\"\n",
        "    Calculates the weights of a linear function using the normal equation method.\n",
        "    You should add into X a new column with 1s.\n",
        " \n",
        "    :param X: design matrix\n",
        "    :type X: np.ndarray(shape=(N, d))\n",
        "    :param y: regression targets\n",
        "    :type y: np.ndarray(shape=(N, 1))\n",
        "    :return: weight vector\n",
        "    :rtype: np.ndarray(shape=(d+1, 1))\n",
        "    \"\"\"\n",
        "    \n",
        "    # START OF YOUR CODE:\n",
        "    Xe = np.hstack((np.ones((X.shape[0], 1)), X))\n",
        "    return np.dot(np.linalg.inv(np.dot(Xe.T, Xe)), np.dot(Xe.T, y))\n",
        "    # END OF YOUR CODE"
      ],
      "execution_count": null,
      "outputs": []
    },
    {
      "cell_type": "code",
      "metadata": {
        "id": "g2L0BOwd-buI",
        "colab": {
          "base_uri": "https://localhost:8080/"
        },
        "outputId": "31f94123-f877-4b0f-9068-02b58e90878f"
      },
      "source": [
        "# test of function normal_equation_weights()\n",
        " \n",
        "w = 0  # this is not necessary\n",
        "w = normal_equation_weights(X, y)\n",
        "print(\"Estimated w =\\n\", w)"
      ],
      "execution_count": null,
      "outputs": [
        {
          "output_type": "stream",
          "text": [
            "Estimated w =\n",
            " [[11861.29328215]\n",
            " [   50.31519469]]\n"
          ],
          "name": "stdout"
        }
      ]
    },
    {
      "cell_type": "markdown",
      "metadata": {
        "id": "JsV2WGvW-buL"
      },
      "source": [
        "## <mark>1.2. Prediction function</mark>"
      ]
    },
    {
      "cell_type": "code",
      "metadata": {
        "id": "R71E61-c-buM"
      },
      "source": [
        "def normal_equation_prediction(X, w):\n",
        "    \"\"\"\n",
        "    Calculates the prediction over a set of observations X using the linear function\n",
        "    characterized by the weight vector w.\n",
        "    You should add into X a new column with 1s.\n",
        " \n",
        "    :param X: design matrix\n",
        "    :type X: np.ndarray(shape=(N, d))\n",
        "    :param w: weight vector\n",
        "    :type w: np.ndarray(shape=(d+1, 1))\n",
        "    :param y: regression prediction\n",
        "    :type y: np.ndarray(shape=(N, 1))\n",
        "    \"\"\"\n",
        "    \n",
        "    # START OF YOUR CODE:\n",
        "    Xe = np.hstack((np.ones((X.shape[0], 1)), X))\n",
        "    return np.dot(Xe, w)\n",
        "    # END OF YOUR CODE"
      ],
      "execution_count": null,
      "outputs": []
    },
    {
      "cell_type": "markdown",
      "metadata": {
        "id": "v5x3u_rg-buO"
      },
      "source": [
        "## <mark>1.3. Coefficient of determination</mark>\n",
        "We can use the [$R^2$](https://pt.wikipedia.org/wiki/R%C2%B2) metric (Coefficient of determination) to evaluate how well the linear model fits the data.\n",
        "\n",
        "**Which $𝑅^2$ value would you expect to observe ?**"
      ]
    },
    {
      "cell_type": "code",
      "metadata": {
        "id": "tkPj4dPZ-buQ",
        "colab": {
          "base_uri": "https://localhost:8080/",
          "height": 293
        },
        "outputId": "f201b23f-6711-4dd3-82c9-67fe93c7441f"
      },
      "source": [
        "from sklearn.metrics import r2_score\n",
        " \n",
        "# test of function normal_equation_prediction()\n",
        "prediction = normal_equation_prediction(X, w)\n",
        "\n",
        "# compute the R2 score using the r2_score function from sklearn\n",
        "# Replace 0 with an appropriate call of the function\n",
        " \n",
        "# START OF YOUR CODE:\n",
        "r_2 = r2_score(y, prediction)\n",
        "# END OF YOUR CODE\n",
        " \n",
        "plot_points_regression(X,\n",
        "                       y,\n",
        "                       title='Real estate prices prediction',\n",
        "                       xlabel=\"m\\u00b2\",\n",
        "                       ylabel='$',\n",
        "                       prediction=prediction,\n",
        "                       legend=True,\n",
        "                       r_squared=r_2)"
      ],
      "execution_count": null,
      "outputs": [
        {
          "output_type": "display_data",
          "data": {
            "image/png": "[encoded data removed]",
            "text/plain": [
              "<Figure size 576x576 with 1 Axes>"
            ]
          },
          "metadata": {
            "tags": [],
            "needs_background": "light"
          }
        }
      ]
    },
    {
      "cell_type": "markdown",
      "metadata": {
        "id": "jUKmxSvG-buS"
      },
      "source": [
        "## Additional tests\n",
        "\n",
        "Let us compute a prediction for $x=650$\n"
      ]
    },
    {
      "cell_type": "code",
      "metadata": {
        "id": "EBzi2E_l-buU",
        "colab": {
          "base_uri": "https://localhost:8080/"
        },
        "outputId": "8ef111c1-af69-4e1f-ef31-d1360714625c"
      },
      "source": [
        "# Let us use the prediction function\n",
        "x = np.asarray([650]).reshape(1,1)\n",
        "prediction = normal_equation_prediction(x, w)\n",
        "print(\"Area = %.2f  Predicted price = %.4f\" %(x[0], prediction))"
      ],
      "execution_count": null,
      "outputs": [
        {
          "output_type": "stream",
          "text": [
            "Area = 650.00  Predicted price = 44566.1698\n"
          ],
          "name": "stdout"
        }
      ]
    },
    {
      "cell_type": "markdown",
      "metadata": {
        "id": "t4AvTGFO-buV"
      },
      "source": [
        "## <mark>1.4. Processing time</mark>\n",
        "\n",
        "Experiment with different nummber of samples $N$ and observe how processing time varies.\n",
        "\n",
        "Be careful not to use a too large value; it may make jupyter freeze ..."
      ]
    },
    {
      "cell_type": "code",
      "metadata": {
        "id": "_6jkiST1-buW",
        "colab": {
          "base_uri": "https://localhost:8080/"
        },
        "outputId": "c65903bd-5da6-41bc-d650-9ca89aaef33d"
      },
      "source": [
        "# Add other values for N\n",
        "# START OF YOUR CODE:\n",
        "N = [100, 2**9, 2**10, 2**12, 2**15, 2**18, 2**20, 2**21] \n",
        "# END OF YOUR CODE\n",
        " \n",
        "for i in N:\n",
        "    X, y = get_housing_prices_data(N=i)\n",
        "    init = time.time()\n",
        "    w = normal_equation_weights(X, y)\n",
        "    prediction = normal_equation_prediction(X,w)\n",
        "    init = time.time() - init\n",
        "    \n",
        "    print(\"\\nExecution time = {:.8f}(s)\\n\".format(init))"
      ],
      "execution_count": null,
      "outputs": [
        {
          "output_type": "stream",
          "text": [
            "\n",
            "X shape = (100, 1)\n",
            "y shape = (100, 1)\n",
            "\n",
            "X: mean 645.0, sdt 323.65, max 1200.00, min 90.00\n",
            "y: mean 44082.26, sdt 16915.03, max 78055.39, min 15179.92\n",
            "\n",
            "Execution time = 0.00055838(s)\n",
            "\n",
            "\n",
            "X shape = (512, 1)\n",
            "y shape = (512, 1)\n",
            "\n",
            "X: mean 645.0, sdt 321.06, max 1200.00, min 90.00\n",
            "y: mean 44173.64, sdt 16640.51, max 78888.23, min 8781.72\n",
            "\n",
            "Execution time = 0.00150371(s)\n",
            "\n",
            "\n",
            "X shape = (1024, 1)\n",
            "y shape = (1024, 1)\n",
            "\n",
            "X: mean 645.0, sdt 320.74, max 1200.00, min 90.00\n",
            "y: mean 44096.93, sdt 16415.05, max 78228.58, min 8723.51\n",
            "\n",
            "Execution time = 0.00057364(s)\n",
            "\n",
            "\n",
            "X shape = (4096, 1)\n",
            "y shape = (4096, 1)\n",
            "\n",
            "X: mean 645.0, sdt 320.51, max 1200.00, min 90.00\n",
            "y: mean 44226.17, sdt 16498.88, max 80352.56, min 6394.14\n",
            "\n",
            "Execution time = 0.00196838(s)\n",
            "\n",
            "\n",
            "X shape = (32768, 1)\n",
            "y shape = (32768, 1)\n",
            "\n",
            "X: mean 645.0, sdt 320.44, max 1200.00, min 90.00\n",
            "y: mean 44283.36, sdt 16525.48, max 86051.59, min 2800.74\n",
            "\n",
            "Execution time = 0.00316381(s)\n",
            "\n",
            "\n",
            "X shape = (262144, 1)\n",
            "y shape = (262144, 1)\n",
            "\n",
            "X: mean 645.0, sdt 320.43, max 1200.00, min 90.00\n",
            "y: mean 44236.24, sdt 16510.22, max 87732.45, min 2783.05\n",
            "\n",
            "Execution time = 0.00751138(s)\n",
            "\n",
            "\n",
            "X shape = (1048576, 1)\n",
            "y shape = (1048576, 1)\n",
            "\n",
            "X: mean 644.9998779296875, sdt 320.43, max 1200.00, min 90.00\n",
            "y: mean 44255.21, sdt 16511.34, max 87734.11, min 799.33\n",
            "\n",
            "Execution time = 0.02260280(s)\n",
            "\n",
            "\n",
            "X shape = (2097152, 1)\n",
            "y shape = (2097152, 1)\n",
            "\n",
            "X: mean 645.0010375976562, sdt 320.43, max 1200.00, min 90.00\n",
            "y: mean 44243.98, sdt 16516.71, max 88784.96, min 754.65\n",
            "\n",
            "Execution time = 0.04612255(s)\n",
            "\n"
          ],
          "name": "stdout"
        }
      ]
    },
    {
      "cell_type": "markdown",
      "metadata": {
        "id": "LhaY_hVO-buX"
      },
      "source": [
        "# <mark>Exercise 2</mark>\n",
        "\n",
        "Let us test the code with $𝑑>1$. \n",
        "We will use the data we have collected in our first class. The [file](https://edisciplinas.usp.br/pluginfile.php/5982803/course/section/6115454/QT1data.csv) can be found on e-disciplinas. \n",
        "\n",
        "Let us try to predict the weight based on one or more features."
      ]
    },
    {
      "cell_type": "code",
      "metadata": {
        "id": "P6C9XoK_-buY",
        "colab": {
          "base_uri": "https://localhost:8080/",
          "height": 243
        },
        "outputId": "85cdf418-8bfb-4110-fbfa-87406e211c02"
      },
      "source": [
        "import pandas as pd\n",
        " \n",
        "# load the dataset\n",
        "df = pd.read_csv('QT1data.csv')\n",
        "df.head()"
      ],
      "execution_count": null,
      "outputs": [
        {
          "output_type": "execute_result",
          "data": {
            "text/html": [
              "<div>\n",
              "<style scoped>\n",
              "    .dataframe tbody tr th:only-of-type {\n",
              "        vertical-align: middle;\n",
              "    }\n",
              "\n",
              "    .dataframe tbody tr th {\n",
              "        vertical-align: top;\n",
              "    }\n",
              "\n",
              "    .dataframe thead th {\n",
              "        text-align: right;\n",
              "    }\n",
              "</style>\n",
              "<table border=\"1\" class=\"dataframe\">\n",
              "  <thead>\n",
              "    <tr style=\"text-align: right;\">\n",
              "      <th></th>\n",
              "      <th>Sex</th>\n",
              "      <th>Age</th>\n",
              "      <th>Height</th>\n",
              "      <th>Weight</th>\n",
              "      <th>Shoe number</th>\n",
              "      <th>Trouser number</th>\n",
              "    </tr>\n",
              "  </thead>\n",
              "  <tbody>\n",
              "    <tr>\n",
              "      <th>0</th>\n",
              "      <td>Female</td>\n",
              "      <td>53</td>\n",
              "      <td>154</td>\n",
              "      <td>59</td>\n",
              "      <td>36</td>\n",
              "      <td>40</td>\n",
              "    </tr>\n",
              "    <tr>\n",
              "      <th>1</th>\n",
              "      <td>Male</td>\n",
              "      <td>23</td>\n",
              "      <td>170</td>\n",
              "      <td>56</td>\n",
              "      <td>40</td>\n",
              "      <td>38</td>\n",
              "    </tr>\n",
              "    <tr>\n",
              "      <th>2</th>\n",
              "      <td>Female</td>\n",
              "      <td>23</td>\n",
              "      <td>167</td>\n",
              "      <td>63</td>\n",
              "      <td>37</td>\n",
              "      <td>40</td>\n",
              "    </tr>\n",
              "    <tr>\n",
              "      <th>3</th>\n",
              "      <td>Male</td>\n",
              "      <td>21</td>\n",
              "      <td>178</td>\n",
              "      <td>78</td>\n",
              "      <td>40</td>\n",
              "      <td>40</td>\n",
              "    </tr>\n",
              "    <tr>\n",
              "      <th>4</th>\n",
              "      <td>Female</td>\n",
              "      <td>25</td>\n",
              "      <td>153</td>\n",
              "      <td>58</td>\n",
              "      <td>36</td>\n",
              "      <td>38</td>\n",
              "    </tr>\n",
              "  </tbody>\n",
              "</table>\n",
              "</div>"
            ],
            "text/plain": [
              "      Sex  Age  Height  Weight  Shoe number Trouser number\n",
              "0  Female   53     154      59           36             40\n",
              "1    Male   23     170      56           40             38\n",
              "2  Female   23     167      63           37             40\n",
              "3    Male   21     178      78           40             40\n",
              "4  Female   25     153      58           36             38"
            ]
          },
          "metadata": {
            "tags": []
          },
          "execution_count": 13
        }
      ]
    },
    {
      "cell_type": "code",
      "metadata": {
        "id": "2OxQDJYD-bua",
        "colab": {
          "base_uri": "https://localhost:8080/",
          "height": 337
        },
        "outputId": "0446aa67-fbcd-4229-b89e-3079aeb732c5"
      },
      "source": [
        "df.describe()"
      ],
      "execution_count": null,
      "outputs": [
        {
          "output_type": "execute_result",
          "data": {
            "text/html": [
              "<div>\n",
              "<style scoped>\n",
              "    .dataframe tbody tr th:only-of-type {\n",
              "        vertical-align: middle;\n",
              "    }\n",
              "\n",
              "    .dataframe tbody tr th {\n",
              "        vertical-align: top;\n",
              "    }\n",
              "\n",
              "    .dataframe thead th {\n",
              "        text-align: right;\n",
              "    }\n",
              "</style>\n",
              "<table border=\"1\" class=\"dataframe\">\n",
              "  <thead>\n",
              "    <tr style=\"text-align: right;\">\n",
              "      <th></th>\n",
              "      <th>Age</th>\n",
              "      <th>Height</th>\n",
              "      <th>Weight</th>\n",
              "      <th>Shoe number</th>\n",
              "    </tr>\n",
              "  </thead>\n",
              "  <tbody>\n",
              "    <tr>\n",
              "      <th>count</th>\n",
              "      <td>130.000000</td>\n",
              "      <td>130.000000</td>\n",
              "      <td>130.000000</td>\n",
              "      <td>130.000000</td>\n",
              "    </tr>\n",
              "    <tr>\n",
              "      <th>mean</th>\n",
              "      <td>28.238462</td>\n",
              "      <td>170.684615</td>\n",
              "      <td>70.238462</td>\n",
              "      <td>39.507692</td>\n",
              "    </tr>\n",
              "    <tr>\n",
              "      <th>std</th>\n",
              "      <td>12.387042</td>\n",
              "      <td>11.568491</td>\n",
              "      <td>15.534809</td>\n",
              "      <td>2.973386</td>\n",
              "    </tr>\n",
              "    <tr>\n",
              "      <th>min</th>\n",
              "      <td>3.000000</td>\n",
              "      <td>100.000000</td>\n",
              "      <td>15.000000</td>\n",
              "      <td>24.000000</td>\n",
              "    </tr>\n",
              "    <tr>\n",
              "      <th>25%</th>\n",
              "      <td>21.000000</td>\n",
              "      <td>164.250000</td>\n",
              "      <td>60.000000</td>\n",
              "      <td>38.000000</td>\n",
              "    </tr>\n",
              "    <tr>\n",
              "      <th>50%</th>\n",
              "      <td>23.000000</td>\n",
              "      <td>172.000000</td>\n",
              "      <td>69.500000</td>\n",
              "      <td>40.000000</td>\n",
              "    </tr>\n",
              "    <tr>\n",
              "      <th>75%</th>\n",
              "      <td>29.000000</td>\n",
              "      <td>178.000000</td>\n",
              "      <td>80.000000</td>\n",
              "      <td>41.000000</td>\n",
              "    </tr>\n",
              "    <tr>\n",
              "      <th>max</th>\n",
              "      <td>62.000000</td>\n",
              "      <td>194.000000</td>\n",
              "      <td>130.000000</td>\n",
              "      <td>46.000000</td>\n",
              "    </tr>\n",
              "  </tbody>\n",
              "</table>\n",
              "</div>"
            ],
            "text/plain": [
              "              Age      Height      Weight  Shoe number\n",
              "count  130.000000  130.000000  130.000000   130.000000\n",
              "mean    28.238462  170.684615   70.238462    39.507692\n",
              "std     12.387042   11.568491   15.534809     2.973386\n",
              "min      3.000000  100.000000   15.000000    24.000000\n",
              "25%     21.000000  164.250000   60.000000    38.000000\n",
              "50%     23.000000  172.000000   69.500000    40.000000\n",
              "75%     29.000000  178.000000   80.000000    41.000000\n",
              "max     62.000000  194.000000  130.000000    46.000000"
            ]
          },
          "metadata": {
            "tags": []
          },
          "execution_count": 14
        }
      ]
    },
    {
      "cell_type": "code",
      "metadata": {
        "id": "9loAG4jh-bub",
        "colab": {
          "base_uri": "https://localhost:8080/"
        },
        "outputId": "a477626a-1ae0-464a-a7e6-8ee43fd45cda"
      },
      "source": [
        "# Our target variable is the weight\n",
        "y = df.pop('Weight').values\n",
        "y"
      ],
      "execution_count": null,
      "outputs": [
        {
          "output_type": "execute_result",
          "data": {
            "text/plain": [
              "array([ 59,  56,  63,  78,  58,  89,  68,  83,  70,  56,  65,  66,  78,\n",
              "        75,  47,  68,  65,  99,  80,  62,  60,  84,  91,  60,  15,  85,\n",
              "        56,  62,  69,  78,  60,  48,  66,  85, 101,  74,  52,  52,  80,\n",
              "        72,  75,  78,  61,  74,  70,  90,  66,  79,  80,  65,  90,  69,\n",
              "        58,  63,  62,  73,  55,  65,  62,  75,  48,  59,  74,  80,  51,\n",
              "        90,  58, 117,  77,  75,  56,  50,  67,  93,  70,  76,  85,  50,\n",
              "        86,  96,  63,  56,  90,  95, 130,  70,  83,  70,  64,  57,  54,\n",
              "        69,  53,  28,  62,  68,  73,  54,  75,  85,  62,  69,  55,  82,\n",
              "        84,  52,  64,  73,  86,  77,  64,  65,  55,  50,  98,  77,  51,\n",
              "        66,  83,  61,  80,  81,  76,  78,  70,  75,  72,  80,  90,  53])"
            ]
          },
          "metadata": {
            "tags": []
          },
          "execution_count": 15
        }
      ]
    },
    {
      "cell_type": "markdown",
      "metadata": {
        "id": "BzWTh3h6-buc"
      },
      "source": [
        "## <mark>2.1. One feature ($d=1$)</mark>\n",
        "\n",
        "We will use 'Height' as the input feature and predict the weight"
      ]
    },
    {
      "cell_type": "code",
      "metadata": {
        "id": "A55AQBLZ-bue",
        "colab": {
          "base_uri": "https://localhost:8080/"
        },
        "outputId": "63b4d0b2-61f3-4a3a-9ac9-d71470df7826"
      },
      "source": [
        "feature_cols = ['Height']\n",
        "X = df.loc[:, feature_cols]\n",
        "X.shape"
      ],
      "execution_count": null,
      "outputs": [
        {
          "output_type": "execute_result",
          "data": {
            "text/plain": [
              "(130, 1)"
            ]
          },
          "metadata": {
            "tags": []
          },
          "execution_count": 16
        }
      ]
    },
    {
      "cell_type": "markdown",
      "metadata": {
        "id": "SeFRr8t9-buf"
      },
      "source": [
        "Write the code for computing the following\n",
        "- compute the regression weights using $\\mathbf{X}$ and $\\mathbf{y}$\n",
        "- compute the prediction\n",
        "- compute the $R^2$ value\n",
        "- plot the regression graph (use appropriate values for the parameters of function <tt>plot_points_regression()</tt>)"
      ]
    },
    {
      "cell_type": "code",
      "metadata": {
        "id": "GQ4M0Cuc-bug",
        "colab": {
          "base_uri": "https://localhost:8080/",
          "height": 288
        },
        "outputId": "1b0122d7-cf1e-42ed-eac6-0334df3ef094"
      },
      "source": [
        "# START OF YOUR CODE:\n",
        " \n",
        "# computes the regression weights\n",
        "w = normal_equation_weights(X, y)\n",
        " \n",
        "# computes the prediction\n",
        "prediction = normal_equation_prediction(X, w)\n",
        " \n",
        "# computes the R^2 value\n",
        "r_2 = r2_score(y, prediction)\n",
        " \n",
        "# plot the regression graph\n",
        "plot_points_regression(X,\n",
        "                       y,\n",
        "                       title = \"Weight prediction\",\n",
        "                       xlabel = \"Height\",\n",
        "                       ylabel = \"Weight\",\n",
        "                       prediction = prediction,\n",
        "                       legend =True,\n",
        "                       r_squared = r_2)\n",
        "# END OF YOUR CODE"
      ],
      "execution_count": null,
      "outputs": [
        {
          "output_type": "display_data",
          "data": {
            "image/png": "[encoded data removed]",
            "text/plain": [
              "<Figure size 576x576 with 1 Axes>"
            ]
          },
          "metadata": {
            "tags": [],
            "needs_background": "light"
          }
        }
      ]
    },
    {
      "cell_type": "markdown",
      "metadata": {
        "id": "HnV6N6WS-buh"
      },
      "source": [
        "## <mark>2.2 - Two input features ($d=2$)</mark>\n",
        "\n",
        "Now repeat the exercise with using as input the features 'Height' and 'Shoe number'\n",
        "\n",
        "- compute the regression weights using $\\mathbf{X}$ and $\\mathbf{y}$\n",
        "- compute the prediction\n",
        "- compute and print the $R^2$ value\n",
        "\n",
        "Note that our plotting function can not be used. There is no need to do plotting here."
      ]
    },
    {
      "cell_type": "code",
      "metadata": {
        "id": "kk4AeRZP-buj",
        "colab": {
          "base_uri": "https://localhost:8080/"
        },
        "outputId": "cdcbbbbc-a58d-4d7e-f7e6-d5165ed845a3"
      },
      "source": [
        "# START OF YOUR CODE:\n",
        " \n",
        "# define the feature columns\n",
        "feature_cols = [\"Height\", \"Shoe number\"]\n",
        "# select a subset using the feature columns\n",
        "X = df.loc[:, feature_cols]\n",
        " \n",
        "# computes the regression weights\n",
        "w = normal_equation_weights(X, y)\n",
        " \n",
        "# computes the prediction\n",
        "prediction = normal_equation_prediction(X, w)\n",
        " \n",
        "# computes the R^2 value\n",
        "r_2 = r2_score(y, prediction)\n",
        "print(\"R\\u00b2 =\", r_2)\n",
        "# END OF YOUR CODE"
      ],
      "execution_count": null,
      "outputs": [
        {
          "output_type": "stream",
          "text": [
            "R² = 0.45381183096658584\n"
          ],
          "name": "stdout"
        }
      ]
    },
    {
      "cell_type": "markdown",
      "metadata": {
        "id": "nHFYzE8u-buk"
      },
      "source": [
        "## 2.3 - <mark>Three input features ($d=3$)</mark>\n",
        "\n",
        "Now try with three features. There is no need to do plotting here.\n",
        "- compute the regression weights using $\\mathbf{X}$ and $\\mathbf{y}$\n",
        "- compute the prediction\n",
        "- compute and print the $R^2$ value"
      ]
    },
    {
      "cell_type": "code",
      "metadata": {
        "id": "uD9iAQzn-bul",
        "colab": {
          "base_uri": "https://localhost:8080/"
        },
        "outputId": "72e7f07f-4f5f-4829-f6db-ca8fa60fb34f"
      },
      "source": [
        "# START OF YOUR CODE:\n",
        "\n",
        "# define the feature columns\n",
        "feature_cols = [\"Age\", \"Height\", \"Shoe number\"]\n",
        "# select a subset using the feature columns\n",
        "X = df.loc[:, feature_cols]\n",
        "\n",
        "# computes the regression weights\n",
        "w = normal_equation_weights(X, y)\n",
        "\n",
        "# computes the prediction\n",
        "prediction = normal_equation_prediction(X, w)\n",
        "\n",
        "# computes the R^2 value\n",
        "r_2 = r2_score(y, prediction)\n",
        "print(\"R\\u00b2 =\", r_2)\n",
        "# END OF YOUR CODE"
      ],
      "execution_count": null,
      "outputs": [
        {
          "output_type": "stream",
          "text": [
            "R² = 0.4776499498669615\n"
          ],
          "name": "stdout"
        }
      ]
    },
    {
      "cell_type": "markdown",
      "metadata": {
        "id": "XWLNfcWc-bum"
      },
      "source": [
        "## <mark>2.4 - Your comments</mark>\n",
        " \n",
        "Did you observe anything interesting with varying values of $d$ ? Comment about it.\n",
        " \n",
        "YOUR COMMENT BELOW:\n",
        " \n",
        "===> There is an increase in the value of the $R^{2}$, however the $R^{2}$ is not close to one and the increase is so small that we should look for more data, variables or simply look for another solution."
      ]
    }
  ]
}
